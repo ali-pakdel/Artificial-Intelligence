{
 "cells": [
  {
   "cell_type": "markdown",
   "metadata": {},
   "source": [
    "Game Assignment\n",
    "\n",
    "Ali Pakdel Samadi\n",
    "\n",
    "810198368"
   ]
  },
  {
   "cell_type": "code",
   "execution_count": 6,
   "metadata": {},
   "outputs": [],
   "source": [
    "from random import random\n",
    "from random import shuffle\n",
    "import copy\n",
    "import time\n",
    "from tqdm import tqdm\n",
    "import numpy as np"
   ]
  },
  {
   "cell_type": "code",
   "execution_count": 7,
   "metadata": {},
   "outputs": [],
   "source": [
    "class ConnectSin:\n",
    "    YOU = 1\n",
    "    CPU = -1\n",
    "    EMPTY = 0\n",
    "    DRAW = 0\n",
    "    __CONNECT_NUMBER = 4\n",
    "    board = None\n",
    "    INFINITY = 9999999\n",
    "\n",
    "    def __init__(self, board_size=(6, 7), silent=False):\n",
    "        \"\"\"\n",
    "        The main class for the connect4 game\n",
    "\n",
    "        Inputs\n",
    "        ----------\n",
    "        board_size : a tuple representing the board size in format: (rows, columns)\n",
    "        silent     : whether the game prints outputs or not\n",
    "        \"\"\"\n",
    "        assert len(board_size) == 2, \"board size should be a 1*2 tuple\"\n",
    "        assert board_size[0] > 4 and board_size[1] > 4, \"board size should be at least 5*5\"\n",
    "\n",
    "        self.columns = board_size[1]\n",
    "        self.rows = board_size[0]\n",
    "        self.silent = silent\n",
    "        self.board_size = self.rows * self.columns\n",
    "        \n",
    "        self.depth = 1\n",
    "        self.pruning = False\n",
    "        self.nodes_visited = 0\n",
    "        \n",
    "    def set_depth(self, d):\n",
    "        self.depth = d\n",
    "        \n",
    "    def enable_pruning(self):\n",
    "        self.pruning = True\n",
    "    \n",
    "    def get_nodes_visited(self):\n",
    "        return self.nodes_visited\n",
    "\n",
    "    def run(self, starter=None):\n",
    "        \"\"\"\n",
    "        runs the game!\n",
    "\n",
    "        Inputs\n",
    "        ----------\n",
    "        starter : either -1,1 or None. -1 if cpu starts the game, 1 if you start the game. None if you want the starter\n",
    "            to be assigned randomly \n",
    "\n",
    "        Output\n",
    "        ----------\n",
    "        (int) either 1,0,-1. 1 meaning you have won, -1 meaning the player has won and 0 means that the game has drawn\n",
    "        \"\"\"\n",
    "        if (not starter):\n",
    "            starter = self.__get_random_starter()\n",
    "        assert starter in [self.YOU, self.CPU], \"starter value can only be 1,-1 or None\"\n",
    "        \n",
    "        self.__init_board()\n",
    "        turns_played = 0\n",
    "        current_player = starter\n",
    "        while(turns_played < self.board_size):\n",
    "            \n",
    "            if (current_player == self.YOU):\n",
    "                self.__print_board()\n",
    "                player_input = self.get_your_input()\n",
    "            elif (current_player == self.CPU):\n",
    "                player_input = self.__get_cpu_input()\n",
    "            else:\n",
    "                raise Exception(\"A problem has happend! contact no one, there is no fix!\")\n",
    "            if (not self.register_input(player_input, current_player)):\n",
    "                self.__print(\"this move is invalid!\")\n",
    "                continue\n",
    "            current_player = self.__change_turn(current_player)\n",
    "            potential_winner = self.check_for_winners()\n",
    "            turns_played += 1\n",
    "            if (potential_winner != 0):\n",
    "                self.__print_board()\n",
    "                self.__print_winner_message(potential_winner)\n",
    "                return potential_winner\n",
    "        self.__print_board()\n",
    "        self.__print(\"The game has ended in a draw!\")\n",
    "        return self.DRAW\n",
    "\n",
    "    def get_your_input(self):\n",
    "        \"\"\"\n",
    "        gets your input\n",
    "\n",
    "        Output\n",
    "        ----------\n",
    "        (int) an integer between 1 and column count. the column to put a piece in\n",
    "        \"\"\"\n",
    "        temp_board = copy.deepcopy(self.board)\n",
    "        alpha = -self.INFINITY\n",
    "        beta = self.INFINITY\n",
    "        best_col = self.__minimax(self.depth, self.YOU, alpha, beta)[1]\n",
    "        self.board = temp_board\n",
    "        return best_col\n",
    "\n",
    "    \n",
    "    def __minimax(self, depth, player_id, alpha, beta):\n",
    "        self.nodes_visited += 1\n",
    "        valid_moves = self.get_possible_moves()\n",
    "       \n",
    "        y_counts = sum(row.count(self.YOU) for row in self.board)\n",
    "        c_counts = sum(row.count(self.CPU) for row in self.board)\n",
    "        if y_counts >= self.__CONNECT_NUMBER or c_counts >= self.__CONNECT_NUMBER:            \n",
    "            winner = self.check_for_winners()\n",
    "            if winner == self.YOU:\n",
    "                return (self.INFINITY, None)\n",
    "            elif winner == self.CPU:\n",
    "                return (-self.INFINITY, None)\n",
    "            elif len(valid_moves) == 0:\n",
    "                return (0, None)\n",
    "    \n",
    "        if depth <= 0:\n",
    "            return (self.__heuristic(self.YOU), None)\n",
    "        \n",
    "        if self.pruning:\n",
    "            shuffle(valid_moves)\n",
    "            \n",
    "        col = valid_moves[0]\n",
    "        best_value = self.INFINITY\n",
    "        if player_id == self.YOU:\n",
    "            best_value = -self.INFINITY\n",
    "        \n",
    "        \n",
    "        board_temp = copy.deepcopy(self.board)\n",
    "        for move in valid_moves:\n",
    "            self.register_input(move, player_id)\n",
    "\n",
    "            new_value = self.__minimax(depth - 1, -1 * player_id, alpha, beta)[0]\n",
    "            \n",
    "            if player_id == self.YOU:\n",
    "                if new_value > best_value:\n",
    "                    best_value = new_value\n",
    "                    col = move\n",
    "                    \n",
    "                if self.pruning:\n",
    "                    alpha = max(alpha, best_value)\n",
    "                    if alpha >= beta:\n",
    "                        break\n",
    "            else:\n",
    "                if new_value < best_value:\n",
    "                    best_value = new_value\n",
    "                    col = move\n",
    "                    \n",
    "                if self.pruning:\n",
    "                    beta = min(beta, best_value)\n",
    "                if beta <= alpha:\n",
    "                    break\n",
    "                    \n",
    "            self.board = copy.deepcopy(board_temp)\n",
    "                            \n",
    "        return (best_value, col)\n",
    "                      \n",
    "    def __heuristic(self, player_id):\n",
    "        value = 0\n",
    "        \n",
    "        opp_id = self.CPU\n",
    "        if player_id == self.CPU:\n",
    "            opp_id = self.YOU\n",
    "        \n",
    "        \n",
    "        value += self.__center_values(player_id, value)\n",
    "        value += self.__horizental_values(player_id, opp_id, value)\n",
    "        value += self.__vertical_values(player_id, opp_id, value)\n",
    "        value += self.__pos_diagonal_values(player_id, opp_id, value)\n",
    "        value += self.__neg_diagonal_values(player_id, opp_id, value)\n",
    "        \n",
    "        return value\n",
    "\n",
    "    def __center_values(self, player_id, value):\n",
    "        board = np.array(self.board)\n",
    "        center_array = [int(i) for i in list(board[:, self.columns // 2])]\n",
    "        value += center_array.count(player_id) * 3\n",
    "        return value\n",
    "        \n",
    "    def __horizental_values(self, player_id, opp_id, value):\n",
    "        \n",
    "        for i in range(self.rows):\n",
    "            for j in range(self.columns - self.__CONNECT_NUMBER + 1):\n",
    "                player_pieces = 0\n",
    "                opp_pieces = 0\n",
    "                empty_pieces = 0\n",
    "                for x in range(self.__CONNECT_NUMBER):\n",
    "                    if self.board[i][j + x] == player_id:\n",
    "                        player_pieces += 1\n",
    "                    elif self.board[i][j + x] == opp_id:\n",
    "                        opp_pieces += 1\n",
    "                    else:\n",
    "                        empty_pieces += 1\n",
    "                value += self.__calculate_value(player_pieces, opp_pieces, empty_pieces)\n",
    "        return value\n",
    "    \n",
    "    def __vertical_values(self, player_id, opp_id, value):\n",
    "        \n",
    "        for i in range(self.rows - self.__CONNECT_NUMBER + 1):\n",
    "            for j in range(self.columns):\n",
    "                player_pieces = 0\n",
    "                opp_pieces = 0\n",
    "                empty_pieces = 0\n",
    "                for x in range(self.__CONNECT_NUMBER):\n",
    "                    if self.board[i + x][j] == player_id:\n",
    "                        player_pieces += 1\n",
    "                    elif self.board[i + x][j] == opp_id:\n",
    "                        opp_pieces += 1\n",
    "                    else:\n",
    "                        empty_pieces += 1\n",
    "                value += self.__calculate_value(player_pieces, opp_pieces, empty_pieces)\n",
    "        return value\n",
    "    \n",
    "    def __pos_diagonal_values(self, player_id, opp_id, value):\n",
    "        \n",
    "        for i in range(self.rows - self.__CONNECT_NUMBER + 1):\n",
    "            for j in range(self.columns - self.__CONNECT_NUMBER + 1):\n",
    "                player_pieces = 0\n",
    "                opp_pieces = 0\n",
    "                empty_pieces = 0\n",
    "                for x in range(self.__CONNECT_NUMBER):\n",
    "                    if self.board[i + x][j + x] == player_id:\n",
    "                        player_pieces += 1\n",
    "                    elif self.board[i + x][j + x] == opp_id:\n",
    "                        opp_pieces += 1\n",
    "                    else:\n",
    "                        empty_pieces += 1\n",
    "                value += self.__calculate_value(player_pieces, opp_pieces, empty_pieces)\n",
    "        return value \n",
    "    \n",
    "    def __neg_diagonal_values(self, player_id, opp_id, value):\n",
    "\n",
    "        for i in range(self.rows - self.__CONNECT_NUMBER + 1):\n",
    "            for j in range(self.columns - self.__CONNECT_NUMBER + 1):\n",
    "                player_pieces = 0\n",
    "                opp_pieces = 0\n",
    "                empty_pieces = 0\n",
    "                for x in range(self.__CONNECT_NUMBER):\n",
    "                    if self.board[i + self.__CONNECT_NUMBER - 1 - x][j + x] == player_id:\n",
    "                        player_pieces += 1\n",
    "                    elif self.board[i + self.__CONNECT_NUMBER - 1 - x][j + x] == opp_id:\n",
    "                        opp_pieces += 1\n",
    "                    else:\n",
    "                        empty_pieces += 1\n",
    "                value += self.__calculate_value(player_pieces, opp_pieces, empty_pieces)\n",
    "        return value \n",
    "        \n",
    "    def __calculate_value(self, player_pieces, opp_pieces, empty_pieces):\n",
    "        \n",
    "        value = 0\n",
    "        \n",
    "        if opp_pieces == self.__CONNECT_NUMBER - 1 and empty_pieces == self.__CONNECT_NUMBER - 3:\n",
    "            value -= 7\n",
    "        \n",
    "        if player_pieces == self.__CONNECT_NUMBER:\n",
    "            value += 100\n",
    "        elif player_pieces == self.__CONNECT_NUMBER - 1 and empty_pieces == self.__CONNECT_NUMBER - 3:\n",
    "            value += 10\n",
    "        elif player_pieces == self.__CONNECT_NUMBER - 2 and empty_pieces == self.__CONNECT_NUMBER - 2:\n",
    "            value += 5\n",
    "            \n",
    "        return value\n",
    "    \n",
    "    def check_for_winners(self):\n",
    "        \"\"\"\n",
    "        checks if anyone has won in this position\n",
    "\n",
    "        Output\n",
    "        ----------\n",
    "        (int) either 1,0,-1. 1 meaning you have won, -1 meaning the player has won and 0 means that nothing has happened\n",
    "        \"\"\"\n",
    "        have_you_won = self.check_if_player_has_won(self.YOU)\n",
    "        if have_you_won:\n",
    "            return self.YOU\n",
    "        has_cpu_won = self.check_if_player_has_won(self.CPU)\n",
    "        if has_cpu_won:\n",
    "            return self.CPU\n",
    "        return self.EMPTY\n",
    "\n",
    "    def check_if_player_has_won(self, player_id):\n",
    "        \"\"\"\n",
    "        checks if player with player_id has won\n",
    "\n",
    "        Inputs\n",
    "        ----------\n",
    "        player_id : the id for the player to check\n",
    "\n",
    "        Output\n",
    "        ----------\n",
    "        (boolean) true if the player has won in this position\n",
    "        \"\"\"\n",
    "        return (\n",
    "            self.__has_player_won_diagonally(player_id)\n",
    "            or self.__has_player_won_horizentally(player_id)\n",
    "            or self.__has_player_won_vertically(player_id)\n",
    "        )\n",
    "    \n",
    "    def is_move_valid(self, move):\n",
    "        \"\"\"\n",
    "        checks if this move can be played\n",
    "\n",
    "        Inputs\n",
    "        ----------\n",
    "        move : the column to place a piece in, in range [1, column count]\n",
    "\n",
    "        Output\n",
    "        ----------\n",
    "        (boolean) true if the move can be played\n",
    "        \"\"\"\n",
    "        if (move < 1 or move > self.columns):\n",
    "            return False\n",
    "        column_index = move - 1\n",
    "        return self.board[0][column_index] == 0\n",
    "    \n",
    "    def get_possible_moves(self):\n",
    "        \"\"\"\n",
    "        returns a list of possible moves for the next move\n",
    "\n",
    "        Output\n",
    "        ----------\n",
    "        (list) a list of numbers of columns that a piece can be placed in\n",
    "        \"\"\"\n",
    "        possible_moves = []\n",
    "        for i in range(self.columns):\n",
    "            move = i + 1\n",
    "            if (self.is_move_valid(move)):\n",
    "                possible_moves.append(move)\n",
    "        return possible_moves\n",
    "    \n",
    "    def register_input(self, player_input, current_player):\n",
    "        \"\"\"\n",
    "        registers move to board, remember that this function changes the board\n",
    "\n",
    "        Inputs\n",
    "        ----------\n",
    "        player_input : the column to place a piece in, in range [1, column count]\n",
    "        current_player: ID of the current player, either self.YOU or self.CPU\n",
    "\n",
    "        \"\"\"\n",
    "        if (not self.is_move_valid(player_input)):\n",
    "            return False\n",
    "        self.__drop_piece_in_column(player_input, current_player)\n",
    "        return True\n",
    "\n",
    "    def __init_board(self):\n",
    "        self.board = []\n",
    "        for i in range(self.rows):\n",
    "            self.board.append([self.EMPTY] * self.columns)\n",
    "\n",
    "    def __print(self, message: str):\n",
    "        if not self.silent:\n",
    "            print(message)\n",
    "\n",
    "    def __has_player_won_horizentally(self, player_id):\n",
    "        for i in range(self.rows):\n",
    "            for j in range(self.columns - self.__CONNECT_NUMBER + 1):\n",
    "                has_won = True\n",
    "                for x in range(self.__CONNECT_NUMBER):\n",
    "                    if self.board[i][j + x] != player_id:\n",
    "                        has_won = False\n",
    "                        break\n",
    "                if has_won:\n",
    "                    return True\n",
    "        return False\n",
    "\n",
    "    def __has_player_won_vertically(self, player_id):\n",
    "        for i in range(self.rows - self.__CONNECT_NUMBER + 1):\n",
    "            for j in range(self.columns):\n",
    "                has_won = True\n",
    "                for x in range(self.__CONNECT_NUMBER):\n",
    "                    if self.board[i + x][j] != player_id:\n",
    "                        has_won = False\n",
    "                        break\n",
    "                if has_won:\n",
    "                    return True\n",
    "        return False\n",
    "\n",
    "    def __has_player_won_diagonally(self, player_id):\n",
    "        for i in range(self.rows - self.__CONNECT_NUMBER + 1):\n",
    "            for j in range(self.columns - self.__CONNECT_NUMBER + 1):\n",
    "                has_won = True\n",
    "                for x in range(self.__CONNECT_NUMBER):\n",
    "                    if self.board[i + x][j + x] != player_id:\n",
    "                        has_won = False\n",
    "                        break\n",
    "                if has_won:\n",
    "                    return True\n",
    "                has_won = True\n",
    "                for x in range(self.__CONNECT_NUMBER):\n",
    "                    if self.board[i + self.__CONNECT_NUMBER - 1 - x][j + x] != player_id:\n",
    "                        has_won = False\n",
    "                        break\n",
    "                if has_won:\n",
    "                    return True\n",
    "        return False\n",
    "\n",
    "    def __get_random_starter(self):\n",
    "        players = [self.YOU, self.CPU]\n",
    "        return players[int(random() * len(players))]\n",
    "    \n",
    "    def __get_cpu_input(self):\n",
    "        \"\"\"\n",
    "        This is where clean code goes to die.\n",
    "        \"\"\"\n",
    "        bb = copy.deepcopy(self.board)\n",
    "        pm = self.get_possible_moves()\n",
    "        for m in pm:\n",
    "            self.register_input(m, self.CPU)\n",
    "            if (self.check_if_player_has_won(self.CPU)):\n",
    "                self.board = bb\n",
    "                return m\n",
    "            self.board = copy.deepcopy(bb)\n",
    "        if (self.is_move_valid((self.columns // 2) + 1)):\n",
    "            c = 0\n",
    "            cl = (self.columns // 2) + 1\n",
    "            for x in range(self.rows):\n",
    "                if (self.board[x][cl] == self.CPU):\n",
    "                    c += 1\n",
    "            if (random() < 0.65):\n",
    "                return cl\n",
    "        return pm[int(random() * len(pm))]\n",
    "    \n",
    "    def __drop_piece_in_column(self, move, current_player):\n",
    "        last_empty_space = 0\n",
    "        column_index = move - 1\n",
    "        for i in range(self.rows):\n",
    "            if (self.board[i][column_index] == 0):\n",
    "                last_empty_space = i\n",
    "        self.board[last_empty_space][column_index] = current_player\n",
    "        return True\n",
    "        \n",
    "    def __print_winner_message(self, winner):\n",
    "        if (winner == self.YOU):\n",
    "            self.__print(\"congrats! you have won!\")\n",
    "        else:\n",
    "            self.__print(\"gg. CPU has won!\")\n",
    "    \n",
    "    def __change_turn(self, turn):\n",
    "        if (turn == self.YOU): \n",
    "            return self.CPU\n",
    "        else:\n",
    "            return self.YOU\n",
    "\n",
    "    def __print_board(self):\n",
    "        if (self.silent): return\n",
    "        print(\"Y: you, C: CPU\")\n",
    "        for i in range(self.rows):\n",
    "            for j in range(self.columns):\n",
    "                house_char = \"O\"\n",
    "                if (self.board[i][j] == self.YOU):\n",
    "                    house_char = \"Y\"\n",
    "                elif (self.board[i][j] == self.CPU):\n",
    "                    house_char = \"C\"\n",
    "                    \n",
    "                print(f\"{house_char}\", end=\" \")\n",
    "            print()\n"
   ]
  },
  {
   "cell_type": "code",
   "execution_count": 4,
   "metadata": {},
   "outputs": [],
   "source": [
    "board_sizes_to_check = [(6,7), \n",
    "                        (7,8), \n",
    "                        (7,10)]\n",
    "runs = 200\n"
   ]
  },
  {
   "cell_type": "code",
   "execution_count": 45,
   "metadata": {},
   "outputs": [
    {
     "name": "stderr",
     "output_type": "stream",
     "text": [
      "100%|██████████| 200/200 [00:03<00:00, 51.89it/s]"
     ]
    },
    {
     "name": "stdout",
     "output_type": "stream",
     "text": [
      "Depth 1:\n",
      "\tBoard Size 6x7\n",
      "\t\tAverage time taken:  0.018953614234924317\n",
      "\t\tAverage count of visited nodes:  39.51\n",
      "\t\tChance of winning:  0.69 \n",
      "\n"
     ]
    },
    {
     "name": "stderr",
     "output_type": "stream",
     "text": [
      "\n"
     ]
    }
   ],
   "source": [
    "wins = 0\n",
    "time_taken = 0\n",
    "nodes_visited = 0\n",
    "for i in tqdm(range(runs)):\n",
    "    game = ConnectSin(board_size=(6,7),silent=True)\n",
    "    start_time = time.time()\n",
    "    if game.run() == 1:\n",
    "        wins += 1\n",
    "    time_taken += (time.time() - start_time)\n",
    "    nodes_visited += game.get_nodes_visited()\n",
    "\n",
    "print(\"Depth 1:\")\n",
    "print(\"\\tBoard Size 6x7\")\n",
    "print(\"\\t\\tAverage time taken: \", time_taken / runs)\n",
    "print(\"\\t\\tAverage count of visited nodes: \", nodes_visited / runs)\n",
    "print(\"\\t\\tChance of winning: \", wins / runs, \"\\n\")"
   ]
  },
  {
   "cell_type": "code",
   "execution_count": 5,
   "metadata": {},
   "outputs": [
    {
     "name": "stderr",
     "output_type": "stream",
     "text": [
      "100%|██████████| 200/200 [00:08<00:00, 23.76it/s]"
     ]
    },
    {
     "name": "stdout",
     "output_type": "stream",
     "text": [
      "Depth 1:\n",
      "\tBoard Size 7x8\n",
      "\t\tAverage time taken:  0.04147901058197021\n",
      "\t\tAverage count of visited nodes:  47.985\n",
      "\t\tChance of winning:  0.785 \n",
      "\n"
     ]
    },
    {
     "name": "stderr",
     "output_type": "stream",
     "text": [
      "\n"
     ]
    }
   ],
   "source": [
    "wins = 0\n",
    "time_taken = 0\n",
    "nodes_visited = 0\n",
    "for i in tqdm(range(runs)):\n",
    "    game = ConnectSin(board_size=(7,8),silent=True)\n",
    "    start_time = time.time()\n",
    "    if game.run() == 1:\n",
    "        wins += 1\n",
    "    time_taken += (time.time() - start_time)\n",
    "    nodes_visited += game.get_nodes_visited()\n",
    "\n",
    "print(\"Depth 1:\")\n",
    "print(\"\\tBoard Size 7x8\")\n",
    "print(\"\\t\\tAverage time taken: \", time_taken / runs)\n",
    "print(\"\\t\\tAverage count of visited nodes: \", nodes_visited / runs)\n",
    "print(\"\\t\\tChance of winning: \", wins / runs, \"\\n\")"
   ]
  },
  {
   "cell_type": "code",
   "execution_count": 79,
   "metadata": {},
   "outputs": [
    {
     "name": "stderr",
     "output_type": "stream",
     "text": [
      "100%|██████████| 200/200 [00:10<00:00, 18.81it/s]"
     ]
    },
    {
     "name": "stdout",
     "output_type": "stream",
     "text": [
      "Depth 1:\n",
      "\tBoard Size 7x10\n",
      "\t\tAverage time taken:  0.05240362763404846\n",
      "\t\tAverage count of visited nodes:  56.02\n",
      "\t\tChance of winning:  0.815 \n",
      "\n"
     ]
    },
    {
     "name": "stderr",
     "output_type": "stream",
     "text": [
      "\n"
     ]
    }
   ],
   "source": [
    "wins = 0\n",
    "time_taken = 0\n",
    "nodes_visited = 0\n",
    "for i in tqdm(range(runs)):\n",
    "    game = ConnectSin(board_size=(7,10),silent=True)\n",
    "    start_time = time.time()\n",
    "    if game.run() == 1:\n",
    "        wins += 1\n",
    "    time_taken += (time.time() - start_time)\n",
    "    nodes_visited += game.get_nodes_visited()\n",
    "\n",
    "print(\"Depth 1:\")\n",
    "print(\"\\tBoard Size 7x10\")\n",
    "print(\"\\t\\tAverage time taken: \", time_taken / runs)\n",
    "print(\"\\t\\tAverage count of visited nodes: \", nodes_visited / runs)\n",
    "print(\"\\t\\tChance of winning: \", wins / runs, \"\\n\")"
   ]
  },
  {
   "cell_type": "code",
   "execution_count": 7,
   "metadata": {},
   "outputs": [
    {
     "name": "stderr",
     "output_type": "stream",
     "text": [
      "100%|██████████| 200/200 [03:19<00:00,  1.00it/s]"
     ]
    },
    {
     "name": "stdout",
     "output_type": "stream",
     "text": [
      "Depth 3\n",
      "\tBoard Size 6x7\n",
      "\t\tAverage time taken:  0.9931530141830445\n",
      "\t\tAverage count of visited nodes:  2424.83\n",
      "\t\tChance of winning:  0.865 \n",
      "\n"
     ]
    },
    {
     "name": "stderr",
     "output_type": "stream",
     "text": [
      "\n"
     ]
    }
   ],
   "source": [
    "wins = 0\n",
    "time_taken = 0\n",
    "nodes_visited = 0\n",
    "for i in tqdm(range(runs)):\n",
    "    game = ConnectSin(board_size=(6,7),silent=True)\n",
    "    game.set_depth(3)\n",
    "    start_time = time.time()\n",
    "    if game.run() == 1:\n",
    "        wins += 1\n",
    "    time_taken += (time.time() - start_time)\n",
    "    nodes_visited += game.get_nodes_visited()\n",
    "\n",
    "print(\"Depth 3\")    \n",
    "print(\"\\tBoard Size 6x7\")\n",
    "print(\"\\t\\tAverage time taken: \", time_taken / runs)\n",
    "print(\"\\t\\tAverage count of visited nodes: \", nodes_visited / runs)\n",
    "print(\"\\t\\tChance of winning: \", wins / runs, \"\\n\")  "
   ]
  },
  {
   "cell_type": "code",
   "execution_count": 8,
   "metadata": {},
   "outputs": [
    {
     "name": "stderr",
     "output_type": "stream",
     "text": [
      "100%|██████████| 200/200 [06:58<00:00,  2.09s/it]"
     ]
    },
    {
     "name": "stdout",
     "output_type": "stream",
     "text": [
      "Depth 3:\n",
      "\tBoard Size 7x8\n",
      "\t\tAverage time taken:  2.0901728320121764\n",
      "\t\tAverage count of visited nodes:  3547.51\n",
      "\t\tChance of winning:  0.94 \n",
      "\n"
     ]
    },
    {
     "name": "stderr",
     "output_type": "stream",
     "text": [
      "\n"
     ]
    }
   ],
   "source": [
    "wins = 0\n",
    "time_taken = 0\n",
    "nodes_visited = 0\n",
    "for i in tqdm(range(runs)):\n",
    "    game = ConnectSin(board_size=(7,8),silent=True)\n",
    "    game.set_depth(3)\n",
    "    start_time = time.time()\n",
    "    if game.run() == 1:\n",
    "        wins += 1\n",
    "    time_taken += (time.time() - start_time)\n",
    "    nodes_visited += game.get_nodes_visited()\n",
    "    \n",
    "print(\"Depth 3:\")\n",
    "print(\"\\tBoard Size 7x8\")\n",
    "print(\"\\t\\tAverage time taken: \", time_taken / runs)\n",
    "print(\"\\t\\tAverage count of visited nodes: \", nodes_visited / runs)\n",
    "print(\"\\t\\tChance of winning: \", wins / runs, \"\\n\")"
   ]
  },
  {
   "cell_type": "code",
   "execution_count": 9,
   "metadata": {},
   "outputs": [
    {
     "name": "stderr",
     "output_type": "stream",
     "text": [
      "100%|██████████| 200/200 [17:55<00:00,  5.38s/it]"
     ]
    },
    {
     "name": "stdout",
     "output_type": "stream",
     "text": [
      "Depth 3:\n",
      "\tBoard Size 7x10\n",
      "\t\tAverage time taken:  5.374471489191055\n",
      "\t\tAverage count of visited nodes:  6860.19\n",
      "\t\tChance of winning:  0.955 \n",
      "\n"
     ]
    },
    {
     "name": "stderr",
     "output_type": "stream",
     "text": [
      "\n"
     ]
    }
   ],
   "source": [
    "wins = 0\n",
    "time_taken = 0\n",
    "nodes_visited = 0\n",
    "for i in tqdm(range(runs)):\n",
    "    game = ConnectSin(board_size=(7,10),silent=True)\n",
    "    game.set_depth(3)\n",
    "    start_time = time.time()\n",
    "    if game.run() == 1:\n",
    "        wins += 1\n",
    "    time_taken += (time.time() - start_time)\n",
    "    nodes_visited += game.get_nodes_visited()\n",
    "    \n",
    "print(\"Depth 3:\")\n",
    "print(\"\\tBoard Size 7x10\")\n",
    "print(\"\\t\\tAverage time taken: \", time_taken / runs)\n",
    "print(\"\\t\\tAverage count of visited nodes: \", nodes_visited / runs)\n",
    "print(\"\\t\\tChance of winning: \", wins / runs, \"\\n\")"
   ]
  },
  {
   "cell_type": "code",
   "execution_count": 37,
   "metadata": {},
   "outputs": [
    {
     "name": "stderr",
     "output_type": "stream",
     "text": [
      "100%|██████████| 200/200 [2:20:39<00:00, 42.20s/it]  "
     ]
    },
    {
     "name": "stdout",
     "output_type": "stream",
     "text": [
      "Depth 5:\n",
      "\tBoard Size 6x7\n",
      "\t\tAverage time taken:  42.19693603634834\n",
      "\t\tAverage count of visited nodes:  106709.525\n",
      "\t\tChance of winning:  0.995 \n",
      "\n"
     ]
    },
    {
     "name": "stderr",
     "output_type": "stream",
     "text": [
      "\n"
     ]
    }
   ],
   "source": [
    "wins = 0\n",
    "time_taken = 0\n",
    "nodes_visited = 0\n",
    "for i in tqdm(range(runs)):\n",
    "    game = ConnectSin(board_size=(6,7),silent=True)\n",
    "    game.set_depth(5)\n",
    "    start_time = time.time()\n",
    "    if game.run() == 1:\n",
    "        wins += 1\n",
    "    time_taken += (time.time() - start_time)\n",
    "    nodes_visited += game.get_nodes_visited()\n",
    "    \n",
    "print(\"Depth 5:\")\n",
    "print(\"\\tBoard Size 6x7\")\n",
    "print(\"\\t\\tAverage time taken: \", time_taken / runs)\n",
    "print(\"\\t\\tAverage count of visited nodes: \", nodes_visited / runs)\n",
    "print(\"\\t\\tChance of winning: \", wins / runs, \"\\n\")"
   ]
  },
  {
   "cell_type": "code",
   "execution_count": 63,
   "metadata": {},
   "outputs": [
    {
     "name": "stderr",
     "output_type": "stream",
     "text": [
      "100%|██████████| 200/200 [7:05:04<00:00, 127.52s/it]  "
     ]
    },
    {
     "name": "stdout",
     "output_type": "stream",
     "text": [
      "Depth 5:\n",
      "\tBoard Size 7x8\n",
      "\t\tAverage time taken:  127.52235415220261\n",
      "\t\tAverage count of visited nodes:  228871.51\n",
      "\t\tChance of winning:  1.0 \n",
      "\n"
     ]
    },
    {
     "name": "stderr",
     "output_type": "stream",
     "text": [
      "\n"
     ]
    }
   ],
   "source": [
    "wins = 0\n",
    "time_taken = 0\n",
    "nodes_visited = 0\n",
    "for i in tqdm(range(runs)):\n",
    "    game = ConnectSin(board_size=(7,8),silent=True)\n",
    "    game.set_depth(5)\n",
    "    start_time = time.time()\n",
    "    if game.run() == 1:\n",
    "        wins += 1\n",
    "    time_taken += (time.time() - start_time)\n",
    "    nodes_visited += game.get_nodes_visited()\n",
    "    \n",
    "print(\"Depth 5:\")\n",
    "print(\"\\tBoard Size 7x8\")\n",
    "print(\"\\t\\tAverage time taken: \", time_taken / runs)\n",
    "print(\"\\t\\tAverage count of visited nodes: \", nodes_visited / runs)\n",
    "print(\"\\t\\tChance of winning: \", wins / runs, \"\\n\")"
   ]
  },
  {
   "cell_type": "code",
   "execution_count": 73,
   "metadata": {},
   "outputs": [],
   "source": [
    "wins = 0\n",
    "time_taken = 0\n",
    "nodes_visited = 0\n",
    "for i in range(runs):\n",
    "    game = ConnectSin(board_size=(7,10),silent=True)\n",
    "    game.set_depth(5)\n",
    "    start_time = time.time()\n",
    "    if game.run() == 1:\n",
    "        wins += 1\n",
    "    time_taken += (time.time() - start_time)\n",
    "    nodes_visited += game.get_nodes_visited()\n",
    "    \n",
    "print(\"Depth 5:\")\n",
    "print(\"\\tBoard Size 7x10\")\n",
    "print(\"\\t\\tAverage time taken: \", time_taken / runs)\n",
    "print(\"\\t\\tAverage count of visited nodes: \", nodes_visited / runs)\n",
    "print(\"\\t\\tChance of winning: \", wins / runs, \"\\n\")"
   ]
  },
  {
   "cell_type": "code",
   "execution_count": 10,
   "metadata": {},
   "outputs": [
    {
     "name": "stderr",
     "output_type": "stream",
     "text": [
      "100%|██████████| 200/200 [00:04<00:00, 47.80it/s]"
     ]
    },
    {
     "name": "stdout",
     "output_type": "stream",
     "text": [
      "With alpha beta pruning, Depth 1:\n",
      "\tBoard Size 6x7\n",
      "\t\tAverage time taken:  0.02054845929145813\n",
      "\t\tAverage count of visited nodes:  38.095\n",
      "\t\tChance of winning:  0.715 \n",
      "\n"
     ]
    },
    {
     "name": "stderr",
     "output_type": "stream",
     "text": [
      "\n"
     ]
    }
   ],
   "source": [
    "wins = 0\n",
    "time_taken = 0\n",
    "nodes_visited = 0\n",
    "for i in tqdm(range(runs)):\n",
    "    game = ConnectSin(board_size=(6,7),silent=True)\n",
    "    game.set_depth(1)\n",
    "    game.enable_pruning()\n",
    "    start_time = time.time()\n",
    "    if game.run() == 1:\n",
    "        wins += 1\n",
    "    time_taken += (time.time() - start_time)\n",
    "    nodes_visited += game.get_nodes_visited()\n",
    "    \n",
    "print(\"With alpha beta pruning, Depth 1:\")\n",
    "print(\"\\tBoard Size 6x7\")\n",
    "print(\"\\t\\tAverage time taken: \", time_taken / runs)\n",
    "print(\"\\t\\tAverage count of visited nodes: \", nodes_visited / runs)\n",
    "print(\"\\t\\tChance of winning: \", wins / runs, \"\\n\")"
   ]
  },
  {
   "cell_type": "code",
   "execution_count": 11,
   "metadata": {},
   "outputs": [
    {
     "name": "stderr",
     "output_type": "stream",
     "text": [
      "100%|██████████| 200/200 [01:16<00:00,  2.60it/s]"
     ]
    },
    {
     "name": "stdout",
     "output_type": "stream",
     "text": [
      "With alpha beta pruning, Depth 3:\n",
      "\tBoard Size 6x7\n",
      "\t\tAverage time taken:  0.382616765499115\n",
      "\t\tAverage count of visited nodes:  1043.495\n",
      "\t\tChance of winning:  0.885 \n",
      "\n"
     ]
    },
    {
     "name": "stderr",
     "output_type": "stream",
     "text": [
      "\n"
     ]
    }
   ],
   "source": [
    "wins = 0\n",
    "time_taken = 0\n",
    "nodes_visited = 0\n",
    "for i in tqdm(range(runs)):\n",
    "    game = ConnectSin(board_size=(6,7),silent=True)\n",
    "    game.set_depth(3)\n",
    "    game.enable_pruning()\n",
    "    start_time = time.time()\n",
    "    if game.run() == 1:\n",
    "        wins += 1\n",
    "    time_taken += (time.time() - start_time)\n",
    "    nodes_visited += game.get_nodes_visited()\n",
    "    \n",
    "print(\"With alpha beta pruning, Depth 3:\")\n",
    "print(\"\\tBoard Size 6x7\")\n",
    "print(\"\\t\\tAverage time taken: \", time_taken / runs)\n",
    "print(\"\\t\\tAverage count of visited nodes: \", nodes_visited / runs)\n",
    "print(\"\\t\\tChance of winning: \", wins / runs, \"\\n\")"
   ]
  },
  {
   "cell_type": "code",
   "execution_count": 13,
   "metadata": {},
   "outputs": [
    {
     "name": "stderr",
     "output_type": "stream",
     "text": [
      "100%|██████████| 200/200 [23:17<00:00,  6.99s/it]"
     ]
    },
    {
     "name": "stdout",
     "output_type": "stream",
     "text": [
      "With alpha beta pruning, Depth 5:\n",
      "\tBoard Size 6x7\n",
      "\t\tAverage time taken:  6.986417400836944\n",
      "\t\tAverage count of visited nodes:  18513.04\n",
      "\t\tChance of winning:  0.985 \n",
      "\n"
     ]
    },
    {
     "name": "stderr",
     "output_type": "stream",
     "text": [
      "\n"
     ]
    }
   ],
   "source": [
    "wins = 0\n",
    "time_taken = 0\n",
    "nodes_visited = 0\n",
    "for i in tqdm(range(runs)):\n",
    "    game = ConnectSin(board_size=(6,7),silent=True)\n",
    "    game.set_depth(5)\n",
    "    game.enable_pruning()\n",
    "    start_time = time.time()\n",
    "    if game.run() == 1:\n",
    "        wins += 1\n",
    "    time_taken += (time.time() - start_time)\n",
    "    nodes_visited += game.get_nodes_visited()\n",
    "    \n",
    "print(\"With alpha beta pruning, Depth 5:\")\n",
    "print(\"\\tBoard Size 6x7\")\n",
    "print(\"\\t\\tAverage time taken: \", time_taken / runs)\n",
    "print(\"\\t\\tAverage count of visited nodes: \", nodes_visited / runs)\n",
    "print(\"\\t\\tChance of winning: \", wins / runs, \"\\n\")"
   ]
  },
  {
   "cell_type": "code",
   "execution_count": 64,
   "metadata": {},
   "outputs": [
    {
     "name": "stderr",
     "output_type": "stream",
     "text": [
      "100%|██████████| 200/200 [5:31:28<00:00, 99.44s/it]   "
     ]
    },
    {
     "name": "stdout",
     "output_type": "stream",
     "text": [
      "With alpha beta pruning, Depth 7:\n",
      "\tBoard Size 6x7\n",
      "\t\tAverage time taken:  99.44025581121444\n",
      "\t\tAverage count of visited nodes:  267993.355\n",
      "\t\tChance of winning:  0.995 \n",
      "\n"
     ]
    },
    {
     "name": "stderr",
     "output_type": "stream",
     "text": [
      "\n"
     ]
    }
   ],
   "source": [
    "wins = 0\n",
    "time_taken = 0\n",
    "nodes_visited = 0\n",
    "for i in tqdm(range(runs)):\n",
    "    game = ConnectSin(board_size=(6,7),silent=True)\n",
    "    game.set_depth(7)\n",
    "    game.enable_pruning()\n",
    "    start_time = time.time()\n",
    "    if game.run() == 1:\n",
    "        wins += 1\n",
    "    time_taken += (time.time() - start_time)\n",
    "    nodes_visited += game.get_nodes_visited()\n",
    "    \n",
    "print(\"With alpha beta pruning, Depth 7:\")\n",
    "print(\"\\tBoard Size 6x7\")\n",
    "print(\"\\t\\tAverage time taken: \", time_taken / runs)\n",
    "print(\"\\t\\tAverage count of visited nodes: \", nodes_visited / runs)\n",
    "print(\"\\t\\tChance of winning: \", wins / runs, \"\\n\")"
   ]
  },
  {
   "cell_type": "code",
   "execution_count": 14,
   "metadata": {},
   "outputs": [
    {
     "name": "stderr",
     "output_type": "stream",
     "text": [
      "100%|██████████| 200/200 [00:07<00:00, 25.72it/s]"
     ]
    },
    {
     "name": "stdout",
     "output_type": "stream",
     "text": [
      "With alpha beta pruning, Depth 1:\n",
      "\tBoard Size 7x8\n",
      "\t\tAverage time taken:  0.03834983825683594\n",
      "\t\tAverage count of visited nodes:  45.23\n",
      "\t\tChance of winning:  0.755 \n",
      "\n"
     ]
    },
    {
     "name": "stderr",
     "output_type": "stream",
     "text": [
      "\n"
     ]
    }
   ],
   "source": [
    "wins = 0\n",
    "time_taken = 0\n",
    "nodes_visited = 0\n",
    "for i in tqdm(range(runs)):\n",
    "    game = ConnectSin(board_size=(7,8),silent=True)\n",
    "    game.set_depth(1)\n",
    "    game.enable_pruning()\n",
    "    start_time = time.time()\n",
    "    if game.run() == 1:\n",
    "        wins += 1\n",
    "    time_taken += (time.time() - start_time)\n",
    "    nodes_visited += game.get_nodes_visited()\n",
    "    \n",
    "print(\"With alpha beta pruning, Depth 1:\")\n",
    "print(\"\\tBoard Size 7x8\")\n",
    "print(\"\\t\\tAverage time taken: \", time_taken / runs)\n",
    "print(\"\\t\\tAverage count of visited nodes: \", nodes_visited / runs)\n",
    "print(\"\\t\\tChance of winning: \", wins / runs, \"\\n\")"
   ]
  },
  {
   "cell_type": "code",
   "execution_count": 12,
   "metadata": {},
   "outputs": [
    {
     "name": "stderr",
     "output_type": "stream",
     "text": [
      "100%|██████████| 200/200 [02:01<00:00,  1.65it/s]"
     ]
    },
    {
     "name": "stdout",
     "output_type": "stream",
     "text": [
      "With alpha beta pruning, Depth 3:\n",
      "\tBoard Size 7x8\n",
      "\t\tAverage time taken:  0.6049064218997955\n",
      "\t\tAverage count of visited nodes:  1165.71\n",
      "\t\tChance of winning:  0.96 \n",
      "\n"
     ]
    },
    {
     "name": "stderr",
     "output_type": "stream",
     "text": [
      "\n"
     ]
    }
   ],
   "source": [
    "wins = 0\n",
    "time_taken = 0\n",
    "nodes_visited = 0\n",
    "for i in tqdm(range(runs)):\n",
    "    game = ConnectSin(board_size=(7,8),silent=True)\n",
    "    game.set_depth(3)\n",
    "    game.enable_pruning()\n",
    "    start_time = time.time()\n",
    "    if game.run() == 1:\n",
    "        wins += 1\n",
    "    time_taken += (time.time() - start_time)\n",
    "    nodes_visited += game.get_nodes_visited()\n",
    "    \n",
    "print(\"With alpha beta pruning, Depth 3:\")\n",
    "print(\"\\tBoard Size 7x8\")\n",
    "print(\"\\t\\tAverage time taken: \", time_taken / runs)\n",
    "print(\"\\t\\tAverage count of visited nodes: \", nodes_visited / runs)\n",
    "print(\"\\t\\tChance of winning: \", wins / runs, \"\\n\")"
   ]
  },
  {
   "cell_type": "code",
   "execution_count": 38,
   "metadata": {},
   "outputs": [
    {
     "name": "stderr",
     "output_type": "stream",
     "text": [
      "100%|██████████| 200/200 [1:04:54<00:00, 19.47s/it]"
     ]
    },
    {
     "name": "stdout",
     "output_type": "stream",
     "text": [
      "With alpha beta pruning, Depth 5:\n",
      "\tBoard Size 7x8\n",
      "\t\tAverage time taken:  19.469748227596284\n",
      "\t\tAverage count of visited nodes:  34574.185\n",
      "\t\tChance of winning:  1.0 \n",
      "\n"
     ]
    },
    {
     "name": "stderr",
     "output_type": "stream",
     "text": [
      "\n"
     ]
    }
   ],
   "source": [
    "wins = 0\n",
    "time_taken = 0\n",
    "nodes_visited = 0\n",
    "for i in tqdm(range(runs)):\n",
    "    game = ConnectSin(board_size=(7,8),silent=True)\n",
    "    game.set_depth(5)\n",
    "    game.enable_pruning()\n",
    "    start_time = time.time()\n",
    "    if game.run() == 1:\n",
    "        wins += 1\n",
    "    time_taken += (time.time() - start_time)\n",
    "    nodes_visited += game.get_nodes_visited()\n",
    "    \n",
    "print(\"With alpha beta pruning, Depth 5:\")\n",
    "print(\"\\tBoard Size 7x8\")\n",
    "print(\"\\t\\tAverage time taken: \", time_taken / runs)\n",
    "print(\"\\t\\tAverage count of visited nodes: \", nodes_visited / runs)\n",
    "print(\"\\t\\tChance of winning: \", wins / runs, \"\\n\")"
   ]
  },
  {
   "cell_type": "code",
   "execution_count": 74,
   "metadata": {},
   "outputs": [],
   "source": [
    "wins = 0\n",
    "time_taken = 0\n",
    "nodes_visited = 0\n",
    "for i in range(runs):\n",
    "    game = ConnectSin(board_size=(7,8),silent=True)\n",
    "    game.set_depth(7)\n",
    "    game.enable_pruning()\n",
    "    start_time = time.time()\n",
    "    if game.run() == 1:\n",
    "        wins += 1\n",
    "    time_taken += (time.time() - start_time)\n",
    "    nodes_visited += game.get_nodes_visited()\n",
    "\n",
    "print(\"With alpha beta pruning, Depth 7:\")\n",
    "print(\"\\tBoard Size 7x8\")\n",
    "print(\"\\t\\tAverage time taken: \", time_taken / runs)\n",
    "print(\"\\t\\tAverage count of visited nodes: \", nodes_visited / runs)\n",
    "print(\"\\t\\tChance of winning: \", wins / runs, \"\\n\")"
   ]
  },
  {
   "cell_type": "code",
   "execution_count": 16,
   "metadata": {},
   "outputs": [
    {
     "name": "stderr",
     "output_type": "stream",
     "text": [
      "100%|██████████| 200/200 [00:12<00:00, 16.63it/s]"
     ]
    },
    {
     "name": "stdout",
     "output_type": "stream",
     "text": [
      "With alpha beta pruning, Depth 1:\n",
      "\tBoard Size 7x10\n",
      "\t\tAverage time taken:  0.059299341440200805\n",
      "\t\tAverage count of visited nodes:  54.39\n",
      "\t\tChance of winning:  0.765 \n",
      "\n"
     ]
    },
    {
     "name": "stderr",
     "output_type": "stream",
     "text": [
      "\n"
     ]
    }
   ],
   "source": [
    "wins = 0\n",
    "time_taken = 0\n",
    "nodes_visited = 0\n",
    "for i in tqdm(range(runs)):\n",
    "    game = ConnectSin(board_size=(7,10),silent=True)\n",
    "    game.set_depth(1)\n",
    "    game.enable_pruning()\n",
    "    start_time = time.time()\n",
    "    if game.run() == 1:\n",
    "        wins += 1\n",
    "    time_taken += (time.time() - start_time)\n",
    "    nodes_visited += game.get_nodes_visited()\n",
    "    \n",
    "print(\"With alpha beta pruning, Depth 1:\")\n",
    "print(\"\\tBoard Size 7x10\")\n",
    "print(\"\\t\\tAverage time taken: \", time_taken / runs)\n",
    "print(\"\\t\\tAverage count of visited nodes: \", nodes_visited / runs)\n",
    "print(\"\\t\\tChance of winning: \", wins / runs, \"\\n\")"
   ]
  },
  {
   "cell_type": "code",
   "execution_count": 13,
   "metadata": {},
   "outputs": [
    {
     "name": "stderr",
     "output_type": "stream",
     "text": [
      "100%|██████████| 200/200 [03:52<00:00,  1.16s/it]"
     ]
    },
    {
     "name": "stdout",
     "output_type": "stream",
     "text": [
      "With alpha beta pruning, Depth 3:\n",
      "\tBoard Size 7x10\n",
      "\t\tAverage time taken:  1.161787279844284\n",
      "\t\tAverage count of visited nodes:  1728.555\n",
      "\t\tChance of winning:  0.995 \n",
      "\n"
     ]
    },
    {
     "name": "stderr",
     "output_type": "stream",
     "text": [
      "\n"
     ]
    }
   ],
   "source": [
    "wins = 0\n",
    "time_taken = 0\n",
    "nodes_visited = 0\n",
    "for i in tqdm(range(runs)):\n",
    "    game = ConnectSin(board_size=(7,10),silent=True)\n",
    "    game.set_depth(3)\n",
    "    game.enable_pruning()\n",
    "    start_time = time.time()\n",
    "    if game.run() == 1:\n",
    "        wins += 1\n",
    "    time_taken += (time.time() - start_time)\n",
    "    nodes_visited += game.get_nodes_visited()\n",
    "    \n",
    "print(\"With alpha beta pruning, Depth 3:\")\n",
    "print(\"\\tBoard Size 7x10\")\n",
    "print(\"\\t\\tAverage time taken: \", time_taken / runs)\n",
    "print(\"\\t\\tAverage count of visited nodes: \", nodes_visited / runs)\n",
    "print(\"\\t\\tChance of winning: \", wins / runs, \"\\n\")"
   ]
  },
  {
   "cell_type": "code",
   "execution_count": null,
   "metadata": {},
   "outputs": [],
   "source": [
    "wins = 0\n",
    "time_taken = 0\n",
    "nodes_visited = 0\n",
    "for i in tqdm(range(runs)):\n",
    "    game = ConnectSin(board_size=(7,10),silent=True)\n",
    "    game.set_depth(5)\n",
    "    game.enable_pruning()\n",
    "    start_time = time.time()\n",
    "    if game.run() == 1:\n",
    "        wins += 1\n",
    "    time_taken += (time.time() - start_time)\n",
    "    nodes_visited += game.get_nodes_visited()\n",
    "    \n",
    "print(\"With alpha beta pruning, Depth 5:\")\n",
    "print(\"\\tBoard Size 7x10\")\n",
    "print(\"\\t\\tAverage time taken: \", time_taken / runs)\n",
    "print(\"\\t\\tAverage count of visited nodes: \", nodes_visited / runs)\n",
    "print(\"\\t\\tChance of winning: \", wins / runs, \"\\n\")"
   ]
  },
  {
   "cell_type": "code",
   "execution_count": null,
   "metadata": {},
   "outputs": [],
   "source": [
    "wins = 0\n",
    "time_taken = 0\n",
    "nodes_visited = 0\n",
    "for i in tqdm(range(runs)):\n",
    "    game = ConnectSin(board_size=(7,10),silent=True)\n",
    "    game.set_depth(7)\n",
    "    game.enable_pruning()\n",
    "    start_time = time.time()\n",
    "    if game.run() == 1:\n",
    "        wins += 1\n",
    "    time_taken += (time.time() - start_time)\n",
    "    nodes_visited += game.get_nodes_visited()\n",
    "    \n",
    "print(\"With alpha beta pruning, Depth 7:\")\n",
    "print(\"\\tBoard Size 7x10\")\n",
    "print(\"\\t\\tAverage time taken: \", time_taken / runs)\n",
    "print(\"\\t\\tAverage count of visited nodes: \", nodes_visited / runs)\n",
    "print(\"\\t\\tChance of winning: \", wins / runs, \"\\n\")"
   ]
  }
 ],
 "metadata": {
  "kernelspec": {
   "display_name": "Python 3",
   "language": "python",
   "name": "python3"
  },
  "language_info": {
   "codemirror_mode": {
    "name": "ipython",
    "version": 3
   },
   "file_extension": ".py",
   "mimetype": "text/x-python",
   "name": "python",
   "nbconvert_exporter": "python",
   "pygments_lexer": "ipython3",
   "version": "3.7.3"
  }
 },
 "nbformat": 4,
 "nbformat_minor": 4
}
