{
  "nbformat": 4,
  "nbformat_minor": 0,
  "metadata": {
    "colab": {
      "name": "AI_CA0.ipynb",
      "provenance": [],
      "collapsed_sections": []
    },
    "kernelspec": {
      "name": "python3",
      "display_name": "Python 3"
    },
    "language_info": {
      "name": "python"
    }
  },
  "cells": [
    {
      "cell_type": "markdown",
      "source": [
        "# **تمرین کامپیوتری صفر**\n",
        "### **علی پاکدل صمدی**\n",
        "\n",
        "### **۸۱۰۱۹۸۳۶۸**\n",
        "\n",
        "**۱.**"
      ],
      "metadata": {
        "id": "q8o0LydLCvIi"
      }
    },
    {
      "cell_type": "code",
      "execution_count": 191,
      "metadata": {
        "colab": {
          "base_uri": "https://localhost:8080/"
        },
        "id": "fsykfmd4AVTF",
        "outputId": "85ea0b02-5854-400b-bbbe-c1d7209da4d0"
      },
      "outputs": [
        {
          "output_type": "stream",
          "name": "stdout",
          "text": [
            "<class 'pandas.core.frame.DataFrame'>\n",
            "RangeIndex: 4521 entries, 0 to 4520\n",
            "Data columns (total 12 columns):\n",
            " #   Column     Non-Null Count  Dtype  \n",
            "---  ------     --------------  -----  \n",
            " 0   age        3984 non-null   float64\n",
            " 1   job        4521 non-null   object \n",
            " 2   marital    4401 non-null   object \n",
            " 3   education  4521 non-null   object \n",
            " 4   balance    4164 non-null   float64\n",
            " 5   housing    4302 non-null   object \n",
            " 6   loan       4521 non-null   object \n",
            " 7   duration   4388 non-null   float64\n",
            " 8   campaign   4521 non-null   int64  \n",
            " 9   pdays      4521 non-null   int64  \n",
            " 10  poutcome   4521 non-null   object \n",
            " 11  y          4087 non-null   object \n",
            "dtypes: float64(3), int64(2), object(7)\n",
            "memory usage: 424.0+ KB\n",
            "None\n",
            "    age          job  marital  education  ...  campaign pdays poutcome   y\n",
            "0  30.0   unemployed  married    primary  ...         1    -1  unknown  no\n",
            "1  33.0     services  married  secondary  ...         1   339  failure  no\n",
            "2   NaN   management   single   tertiary  ...         1   330  failure  no\n",
            "3  30.0   management  married   tertiary  ...         4    -1  unknown  no\n",
            "4  59.0  blue-collar  married  secondary  ...         1    -1  unknown  no\n",
            "\n",
            "[5 rows x 12 columns]\n",
            "       age            job  marital  education  ...  campaign pdays poutcome   y\n",
            "4516  33.0       services  married  secondary  ...         5    -1  unknown  no\n",
            "4517  57.0  self-employed  married   tertiary  ...         1    -1  unknown  no\n",
            "4518  57.0     technician  married  secondary  ...        11    -1  unknown  no\n",
            "4519  28.0    blue-collar  married  secondary  ...         4   211    other  no\n",
            "4520  44.0   entrepreneur   single   tertiary  ...         2   249    other  no\n",
            "\n",
            "[5 rows x 12 columns]\n",
            "               age       balance     duration     campaign        pdays\n",
            "count  3984.000000   4164.000000  4388.000000  4521.000000  4521.000000\n",
            "mean     41.617470   1136.750240   264.724020     2.793630    39.766645\n",
            "std      10.696378   2726.204918   261.057119     3.109807   100.121124\n",
            "min      19.000000  -3313.000000     4.000000     1.000000    -1.000000\n",
            "25%      32.000000     58.000000   104.000000     1.000000    -1.000000\n",
            "50%      40.000000    316.000000   185.500000     2.000000    -1.000000\n",
            "75%      49.000000    997.000000   331.000000     3.000000    -1.000000\n",
            "max      87.000000  71188.000000  3025.000000    50.000000   871.000000\n"
          ]
        }
      ],
      "source": [
        "import pandas as pd\n",
        "import numpy as np\n",
        "import matplotlib.pyplot as plt\n",
        "import time\n",
        "import scipy.stats as stats\n",
        "from shapely.geometry import LineString\n",
        "\n",
        "df = pd.read_csv('bank_term_deposit.csv')\n",
        "\n",
        "print(df.info())\n",
        "print(df.head())\n",
        "print(df.tail())\n",
        "print(df.describe())"
      ]
    },
    {
      "cell_type": "markdown",
      "source": [
        "**۲.**"
      ],
      "metadata": {
        "id": "706JoZYUDcBN"
      }
    },
    {
      "cell_type": "code",
      "source": [
        "print(df.info())\n",
        "\n",
        "df['marital'] = df['marital'].replace(to_replace= 'divorced', value= 0)\n",
        "df['marital'] = df['marital'].replace(to_replace= 'single', value= 1)\n",
        "df['marital'] = df['marital'].replace(to_replace= 'married', value= 2)\n",
        "\n",
        "print(df['marital'])"
      ],
      "metadata": {
        "colab": {
          "base_uri": "https://localhost:8080/"
        },
        "id": "zzLeheM2BMQy",
        "outputId": "7d6ae475-60bc-41fd-f5cb-9495daaa1db9"
      },
      "execution_count": 192,
      "outputs": [
        {
          "output_type": "stream",
          "name": "stdout",
          "text": [
            "<class 'pandas.core.frame.DataFrame'>\n",
            "RangeIndex: 4521 entries, 0 to 4520\n",
            "Data columns (total 12 columns):\n",
            " #   Column     Non-Null Count  Dtype  \n",
            "---  ------     --------------  -----  \n",
            " 0   age        3984 non-null   float64\n",
            " 1   job        4521 non-null   object \n",
            " 2   marital    4401 non-null   object \n",
            " 3   education  4521 non-null   object \n",
            " 4   balance    4164 non-null   float64\n",
            " 5   housing    4302 non-null   object \n",
            " 6   loan       4521 non-null   object \n",
            " 7   duration   4388 non-null   float64\n",
            " 8   campaign   4521 non-null   int64  \n",
            " 9   pdays      4521 non-null   int64  \n",
            " 10  poutcome   4521 non-null   object \n",
            " 11  y          4087 non-null   object \n",
            "dtypes: float64(3), int64(2), object(7)\n",
            "memory usage: 424.0+ KB\n",
            "None\n",
            "0       2.0\n",
            "1       2.0\n",
            "2       1.0\n",
            "3       2.0\n",
            "4       2.0\n",
            "       ... \n",
            "4516    2.0\n",
            "4517    2.0\n",
            "4518    2.0\n",
            "4519    2.0\n",
            "4520    1.0\n",
            "Name: marital, Length: 4521, dtype: float64\n"
          ]
        }
      ]
    },
    {
      "cell_type": "markdown",
      "source": [
        "**۳.**"
      ],
      "metadata": {
        "id": "Fb4ckmjxDe3F"
      }
    },
    {
      "cell_type": "code",
      "source": [
        "print(df.isna().sum())\n",
        "\n",
        "age_mean = df['age'].mean()\n",
        "df['age'] = df['age'].replace(to_replace= np.nan, value= age_mean)\n",
        "\n",
        "marital_mode = df['marital'].mode()\n",
        "df['marital'] = df['marital'].replace(to_replace= np.nan, value= marital_mode[0])\n",
        "\n",
        "balance_mean = df['balance'].mean()\n",
        "df['balance'] = df['balance'].replace(to_replace= np.nan, value= balance_mean)\n",
        "\n",
        "housing_mode = df['housing'].mode()\n",
        "df['housing'] = df['housing'].replace(to_replace= np.nan, value= housing_mode[0])\n",
        "\n",
        "duration_mean = df['duration'].mean()\n",
        "df['duration'] = df['duration'].replace(to_replace= np.nan, value= duration_mean)\n",
        "\n",
        "new_df = df.loc[df['y'].isna()]\n",
        "df = df.dropna()\n",
        "print(df.isna().sum())"
      ],
      "metadata": {
        "colab": {
          "base_uri": "https://localhost:8080/"
        },
        "id": "Zl76UKKOCtLX",
        "outputId": "f090ce35-af9d-43b2-d598-32c2417a5ee6"
      },
      "execution_count": 193,
      "outputs": [
        {
          "output_type": "stream",
          "name": "stdout",
          "text": [
            "age          537\n",
            "job            0\n",
            "marital      120\n",
            "education      0\n",
            "balance      357\n",
            "housing      219\n",
            "loan           0\n",
            "duration     133\n",
            "campaign       0\n",
            "pdays          0\n",
            "poutcome       0\n",
            "y            434\n",
            "dtype: int64\n",
            "age          0\n",
            "job          0\n",
            "marital      0\n",
            "education    0\n",
            "balance      0\n",
            "housing      0\n",
            "loan         0\n",
            "duration     0\n",
            "campaign     0\n",
            "pdays        0\n",
            "poutcome     0\n",
            "y            0\n",
            "dtype: int64\n"
          ]
        }
      ]
    },
    {
      "cell_type": "markdown",
      "source": [
        "**۴.**"
      ],
      "metadata": {
        "id": "SaOMMgCMDhGb"
      }
    },
    {
      "cell_type": "code",
      "source": [
        "housing_vals = df['housing'].values\n",
        "\n",
        "yes = housing_vals == 'yes'\n",
        "no = housing_vals == 'no'\n",
        "\n",
        "housing_yes = df.loc[yes, 'housing'].count()\n",
        "housing_no = df.loc[no, 'housing'].count()\n",
        "\n",
        "print(\"Number of people that have housing loan: \", housing_yes)\n",
        "print(\"Number of people that don't have housing loan: \", housing_no)\n",
        "\n",
        "y_vals = df['y'].values\n",
        "\n",
        "yes = y_vals == 'yes'\n",
        "no = y_vals == 'no'\n",
        "\n",
        "y_yes = df.loc[yes, 'y'].count()\n",
        "y_no = df.loc[no, 'y'].count()\n",
        "\n",
        "print(\"Number of people that have term deposits: \", y_yes)\n",
        "print(\"Number of people that don't have term deposits: \", y_no)"
      ],
      "metadata": {
        "colab": {
          "base_uri": "https://localhost:8080/"
        },
        "id": "Tfcd70IKI6fb",
        "outputId": "8fe92549-6682-4598-e7d1-e5308b9498a9"
      },
      "execution_count": 194,
      "outputs": [
        {
          "output_type": "stream",
          "name": "stdout",
          "text": [
            "Number of people that have housing loan:  2389\n",
            "Number of people that don't have housing loan:  1698\n",
            "Number of people that have term deposits:  464\n",
            "Number of people that don't have term deposits:  3623\n"
          ]
        }
      ]
    },
    {
      "cell_type": "markdown",
      "source": [
        "**۵.**"
      ],
      "metadata": {
        "id": "6QkAjs1oDjfb"
      }
    },
    {
      "cell_type": "code",
      "source": [
        "age_vals = df['age'].values\n",
        "marital_vals = df['marital'].values\n",
        "poutcome_vals = df['poutcome'].values\n",
        "\n",
        "age_higher35 = age_vals > 35\n",
        "single = marital_vals == 1\n",
        "poutcome_success = poutcome_vals == 'success'\n",
        "\n",
        "criterias = df[age_higher35 & single & poutcome_success]\n",
        "\n",
        "print(\"Number of single people with age higher than 35 and have been successfull in poutcome: \", len(criterias))"
      ],
      "metadata": {
        "id": "goDa0q1SKahj",
        "colab": {
          "base_uri": "https://localhost:8080/"
        },
        "outputId": "ab91a45a-0aa8-43d2-c313-204b72dcb0be"
      },
      "execution_count": 195,
      "outputs": [
        {
          "output_type": "stream",
          "name": "stdout",
          "text": [
            "Number of single people with age higher than 35 and have been successfull in poutcome:  14\n"
          ]
        }
      ]
    },
    {
      "cell_type": "markdown",
      "source": [
        "**۶.**"
      ],
      "metadata": {
        "id": "7p348wxFDlpc"
      }
    },
    {
      "cell_type": "code",
      "source": [
        "start = time.time()\n",
        "\n",
        "education_vals = df['education'].values\n",
        "\n",
        "sec_education = education_vals == 'secondary'\n",
        "sec_edu_mean = df.loc[sec_education, 'balance'].mean()\n",
        "\n",
        "print(\"Balance mean of people with secondary education: \", sec_edu_mean)\n",
        "\n",
        "end = time.time()\n",
        "vectorization_time = end - start\n",
        "print(\"Time taken with vectorization: \", vectorization_time)"
      ],
      "metadata": {
        "colab": {
          "base_uri": "https://localhost:8080/"
        },
        "id": "JvcllKSJRSal",
        "outputId": "166f47e8-9b95-49f8-e36e-c3ebfa312dad"
      },
      "execution_count": 196,
      "outputs": [
        {
          "output_type": "stream",
          "name": "stdout",
          "text": [
            "Balance mean of people with secondary education:  950.7017237980879\n",
            "Time taken with vectorization:  0.003314495086669922\n"
          ]
        }
      ]
    },
    {
      "cell_type": "markdown",
      "source": [
        "**۷.**"
      ],
      "metadata": {
        "id": "Rsaa9zKLDnCa"
      }
    },
    {
      "cell_type": "code",
      "source": [
        "start = time.time()\n",
        "\n",
        "balance_sum = 0\n",
        "sec_edu_count = 0\n",
        "\n",
        "size = len(df.index)\n",
        "\n",
        "for i in range (0, size):\n",
        "  if df['education'].values[i] == 'secondary':\n",
        "    balance_sum += df['balance'].values[i]\n",
        "    sec_edu_count += 1\n",
        "\n",
        "print(\"Balance mean of people with secondary education: \", balance_sum / sec_edu_count)\n",
        "\n",
        "end = time.time()\n",
        "loop_time = end - start\n",
        "print(\"Time taken with loop: \", loop_time)\n",
        "\n",
        "print(\"Efficiency of vectorization method: \", loop_time / vectorization_time)"
      ],
      "metadata": {
        "colab": {
          "base_uri": "https://localhost:8080/"
        },
        "id": "9tLTVLRhs0o9",
        "outputId": "8bad15d5-e1c4-4263-8654-22b68145b1c7"
      },
      "execution_count": 197,
      "outputs": [
        {
          "output_type": "stream",
          "name": "stdout",
          "text": [
            "Balance mean of people with secondary education:  950.7017237980879\n",
            "Time taken with loop:  0.027594327926635742\n",
            "Efficiency of vectorization method:  8.325348870666092\n"
          ]
        }
      ]
    },
    {
      "cell_type": "markdown",
      "source": [
        "**۸.**"
      ],
      "metadata": {
        "id": "LBxKMe3yDpFt"
      }
    },
    {
      "cell_type": "code",
      "source": [
        "cols = ['age', 'job', 'marital', 'education', 'balance', 'housing', 'loan', 'duration', 'campaign', 'pdays', 'poutcome', 'y']\n",
        "for col in cols:\n",
        "  df[col].hist()\n",
        "  plt.title(col)\n",
        "  if col == 'job':\n",
        "    plt.xticks(rotation='vertical')\n",
        "  plt.show()\n"
      ],
      "metadata": {
        "colab": {
          "base_uri": "https://localhost:8080/",
          "height": 1000
        },
        "id": "w-Mv8K65uSQo",
        "outputId": "1af66050-279c-4d18-d4d0-2b93c5617a1f"
      },
      "execution_count": 198,
      "outputs": [
        {
          "output_type": "display_data",
          "data": {
            "image/png": "[encoded data removed]",
            "text/plain": [
              "<Figure size 432x288 with 1 Axes>"
            ]
          },
          "metadata": {
            "needs_background": "light"
          }
        },
        {
          "output_type": "display_data",
          "data": {
            "image/png": "[encoded data removed]",
            "text/plain": [
              "<Figure size 432x288 with 1 Axes>"
            ]
          },
          "metadata": {
            "needs_background": "light"
          }
        },
        {
          "output_type": "display_data",
          "data": {
            "image/png": "[encoded data removed]",
            "text/plain": [
              "<Figure size 432x288 with 1 Axes>"
            ]
          },
          "metadata": {
            "needs_background": "light"
          }
        },
        {
          "output_type": "display_data",
          "data": {
            "image/png": "[encoded data removed]",
            "text/plain": [
              "<Figure size 432x288 with 1 Axes>"
            ]
          },
          "metadata": {
            "needs_background": "light"
          }
        },
        {
          "output_type": "display_data",
          "data": {
            "image/png": "[encoded data removed]",
            "text/plain": [
              "<Figure size 432x288 with 1 Axes>"
            ]
          },
          "metadata": {
            "needs_background": "light"
          }
        },
        {
          "output_type": "display_data",
          "data": {
            "image/png": "[encoded data removed]",
            "text/plain": [
              "<Figure size 432x288 with 1 Axes>"
            ]
          },
          "metadata": {
            "needs_background": "light"
          }
        },
        {
          "output_type": "display_data",
          "data": {
            "image/png": "[encoded data removed]",
            "text/plain": [
              "<Figure size 432x288 with 1 Axes>"
            ]
          },
          "metadata": {
            "needs_background": "light"
          }
        },
        {
          "output_type": "display_data",
          "data": {
            "image/png": "[encoded data removed]",
            "text/plain": [
              "<Figure size 432x288 with 1 Axes>"
            ]
          },
          "metadata": {
            "needs_background": "light"
          }
        },
        {
          "output_type": "display_data",
          "data": {
            "image/png": "[encoded data removed]",
            "text/plain": [
              "<Figure size 432x288 with 1 Axes>"
            ]
          },
          "metadata": {
            "needs_background": "light"
          }
        },
        {
          "output_type": "display_data",
          "data": {
            "image/png": "[encoded data removed]",
            "text/plain": [
              "<Figure size 432x288 with 1 Axes>"
            ]
          },
          "metadata": {
            "needs_background": "light"
          }
        },
        {
          "output_type": "display_data",
          "data": {
            "image/png": "[encoded data removed]",
            "text/plain": [
              "<Figure size 432x288 with 1 Axes>"
            ]
          },
          "metadata": {
            "needs_background": "light"
          }
        },
        {
          "output_type": "display_data",
          "data": {
            "image/png": "[encoded data removed]",
            "text/plain": [
              "<Figure size 432x288 with 1 Axes>"
            ]
          },
          "metadata": {
            "needs_background": "light"
          }
        }
      ]
    },
    {
      "cell_type": "markdown",
      "source": [
        "**۹.**"
      ],
      "metadata": {
        "id": "yT1hoh4WDr20"
      }
    },
    {
      "cell_type": "code",
      "source": [
        "cols = ['age', 'balance', 'duration', 'campaign', 'pdays']\n",
        "\n",
        "for col in cols:\n",
        "  col_mean = df[col].mean()\n",
        "  col_std = df[col].std()\n",
        "  df[col] = (df[col] - col_mean) / col_std\n",
        "\n",
        "df"
      ],
      "metadata": {
        "colab": {
          "base_uri": "https://localhost:8080/",
          "height": 468
        },
        "id": "5SgqacxQy9vB",
        "outputId": "90a6f7a3-1193-4788-c440-b401ce874cf3"
      },
      "execution_count": 199,
      "outputs": [
        {
          "output_type": "execute_result",
          "data": {
            "text/html": [
              "\n",
              "  <div id=\"df-70462095-0fa9-40f5-8b0b-b05db314f949\">\n",
              "    <div class=\"colab-df-container\">\n",
              "      <div>\n",
              "<style scoped>\n",
              "    .dataframe tbody tr th:only-of-type {\n",
              "        vertical-align: middle;\n",
              "    }\n",
              "\n",
              "    .dataframe tbody tr th {\n",
              "        vertical-align: top;\n",
              "    }\n",
              "\n",
              "    .dataframe thead th {\n",
              "        text-align: right;\n",
              "    }\n",
              "</style>\n",
              "<table border=\"1\" class=\"dataframe\">\n",
              "  <thead>\n",
              "    <tr style=\"text-align: right;\">\n",
              "      <th></th>\n",
              "      <th>age</th>\n",
              "      <th>job</th>\n",
              "      <th>marital</th>\n",
              "      <th>education</th>\n",
              "      <th>balance</th>\n",
              "      <th>housing</th>\n",
              "      <th>loan</th>\n",
              "      <th>duration</th>\n",
              "      <th>campaign</th>\n",
              "      <th>pdays</th>\n",
              "      <th>poutcome</th>\n",
              "      <th>y</th>\n",
              "    </tr>\n",
              "  </thead>\n",
              "  <tbody>\n",
              "    <tr>\n",
              "      <th>0</th>\n",
              "      <td>-1.154366</td>\n",
              "      <td>unemployed</td>\n",
              "      <td>2.0</td>\n",
              "      <td>primary</td>\n",
              "      <td>0.255388</td>\n",
              "      <td>no</td>\n",
              "      <td>no</td>\n",
              "      <td>-0.724620</td>\n",
              "      <td>-0.573012</td>\n",
              "      <td>-0.404051</td>\n",
              "      <td>unknown</td>\n",
              "      <td>no</td>\n",
              "    </tr>\n",
              "    <tr>\n",
              "      <th>1</th>\n",
              "      <td>-0.856422</td>\n",
              "      <td>services</td>\n",
              "      <td>2.0</td>\n",
              "      <td>secondary</td>\n",
              "      <td>1.406374</td>\n",
              "      <td>yes</td>\n",
              "      <td>yes</td>\n",
              "      <td>-0.005131</td>\n",
              "      <td>-0.573012</td>\n",
              "      <td>3.031432</td>\n",
              "      <td>failure</td>\n",
              "      <td>no</td>\n",
              "    </tr>\n",
              "    <tr>\n",
              "      <th>2</th>\n",
              "      <td>-0.000582</td>\n",
              "      <td>management</td>\n",
              "      <td>1.0</td>\n",
              "      <td>tertiary</td>\n",
              "      <td>-0.378000</td>\n",
              "      <td>yes</td>\n",
              "      <td>no</td>\n",
              "      <td>-0.313979</td>\n",
              "      <td>-0.573012</td>\n",
              "      <td>2.940492</td>\n",
              "      <td>failure</td>\n",
              "      <td>no</td>\n",
              "    </tr>\n",
              "    <tr>\n",
              "      <th>3</th>\n",
              "      <td>-1.154366</td>\n",
              "      <td>management</td>\n",
              "      <td>2.0</td>\n",
              "      <td>tertiary</td>\n",
              "      <td>0.136148</td>\n",
              "      <td>yes</td>\n",
              "      <td>yes</td>\n",
              "      <td>-0.259744</td>\n",
              "      <td>0.380660</td>\n",
              "      <td>-0.404051</td>\n",
              "      <td>unknown</td>\n",
              "      <td>no</td>\n",
              "    </tr>\n",
              "    <tr>\n",
              "      <th>4</th>\n",
              "      <td>1.725758</td>\n",
              "      <td>blue-collar</td>\n",
              "      <td>2.0</td>\n",
              "      <td>secondary</td>\n",
              "      <td>0.006078</td>\n",
              "      <td>yes</td>\n",
              "      <td>no</td>\n",
              "      <td>-0.155147</td>\n",
              "      <td>-0.573012</td>\n",
              "      <td>-0.404051</td>\n",
              "      <td>unknown</td>\n",
              "      <td>no</td>\n",
              "    </tr>\n",
              "    <tr>\n",
              "      <th>...</th>\n",
              "      <td>...</td>\n",
              "      <td>...</td>\n",
              "      <td>...</td>\n",
              "      <td>...</td>\n",
              "      <td>...</td>\n",
              "      <td>...</td>\n",
              "      <td>...</td>\n",
              "      <td>...</td>\n",
              "      <td>...</td>\n",
              "      <td>...</td>\n",
              "      <td>...</td>\n",
              "      <td>...</td>\n",
              "    </tr>\n",
              "    <tr>\n",
              "      <th>4516</th>\n",
              "      <td>-0.856422</td>\n",
              "      <td>services</td>\n",
              "      <td>2.0</td>\n",
              "      <td>secondary</td>\n",
              "      <td>-0.557434</td>\n",
              "      <td>yes</td>\n",
              "      <td>no</td>\n",
              "      <td>0.243872</td>\n",
              "      <td>0.698550</td>\n",
              "      <td>-0.404051</td>\n",
              "      <td>unknown</td>\n",
              "      <td>no</td>\n",
              "    </tr>\n",
              "    <tr>\n",
              "      <th>4517</th>\n",
              "      <td>1.527129</td>\n",
              "      <td>self-employed</td>\n",
              "      <td>2.0</td>\n",
              "      <td>tertiary</td>\n",
              "      <td>-1.699986</td>\n",
              "      <td>yes</td>\n",
              "      <td>yes</td>\n",
              "      <td>-0.437946</td>\n",
              "      <td>-0.573012</td>\n",
              "      <td>-0.404051</td>\n",
              "      <td>unknown</td>\n",
              "      <td>no</td>\n",
              "    </tr>\n",
              "    <tr>\n",
              "      <th>4518</th>\n",
              "      <td>1.527129</td>\n",
              "      <td>technician</td>\n",
              "      <td>2.0</td>\n",
              "      <td>secondary</td>\n",
              "      <td>-0.316655</td>\n",
              "      <td>no</td>\n",
              "      <td>no</td>\n",
              "      <td>-0.445694</td>\n",
              "      <td>2.605894</td>\n",
              "      <td>-0.404051</td>\n",
              "      <td>unknown</td>\n",
              "      <td>no</td>\n",
              "    </tr>\n",
              "    <tr>\n",
              "      <th>4519</th>\n",
              "      <td>-1.352996</td>\n",
              "      <td>blue-collar</td>\n",
              "      <td>2.0</td>\n",
              "      <td>secondary</td>\n",
              "      <td>0.006173</td>\n",
              "      <td>no</td>\n",
              "      <td>no</td>\n",
              "      <td>-0.530922</td>\n",
              "      <td>0.380660</td>\n",
              "      <td>1.738074</td>\n",
              "      <td>other</td>\n",
              "      <td>no</td>\n",
              "    </tr>\n",
              "    <tr>\n",
              "      <th>4520</th>\n",
              "      <td>0.236039</td>\n",
              "      <td>entrepreneur</td>\n",
              "      <td>1.0</td>\n",
              "      <td>tertiary</td>\n",
              "      <td>0.005790</td>\n",
              "      <td>yes</td>\n",
              "      <td>yes</td>\n",
              "      <td>0.305856</td>\n",
              "      <td>-0.255121</td>\n",
              "      <td>2.122039</td>\n",
              "      <td>other</td>\n",
              "      <td>no</td>\n",
              "    </tr>\n",
              "  </tbody>\n",
              "</table>\n",
              "<p>4087 rows × 12 columns</p>\n",
              "</div>\n",
              "      <button class=\"colab-df-convert\" onclick=\"convertToInteractive('df-70462095-0fa9-40f5-8b0b-b05db314f949')\"\n",
              "              title=\"Convert this dataframe to an interactive table.\"\n",
              "              style=\"display:none;\">\n",
              "        \n",
              "  <svg xmlns=\"http://www.w3.org/2000/svg\" height=\"24px\"viewBox=\"0 0 24 24\"\n",
              "       width=\"24px\">\n",
              "    <path d=\"M0 0h24v24H0V0z\" fill=\"none\"/>\n",
              "    <path d=\"M18.56 5.44l.94 2.06.94-2.06 2.06-.94-2.06-.94-.94-2.06-.94 2.06-2.06.94zm-11 1L8.5 8.5l.94-2.06 2.06-.94-2.06-.94L8.5 2.5l-.94 2.06-2.06.94zm10 10l.94 2.06.94-2.06 2.06-.94-2.06-.94-.94-2.06-.94 2.06-2.06.94z\"/><path d=\"M17.41 7.96l-1.37-1.37c-.4-.4-.92-.59-1.43-.59-.52 0-1.04.2-1.43.59L10.3 9.45l-7.72 7.72c-.78.78-.78 2.05 0 2.83L4 21.41c.39.39.9.59 1.41.59.51 0 1.02-.2 1.41-.59l7.78-7.78 2.81-2.81c.8-.78.8-2.07 0-2.86zM5.41 20L4 18.59l7.72-7.72 1.47 1.35L5.41 20z\"/>\n",
              "  </svg>\n",
              "      </button>\n",
              "      \n",
              "  <style>\n",
              "    .colab-df-container {\n",
              "      display:flex;\n",
              "      flex-wrap:wrap;\n",
              "      gap: 12px;\n",
              "    }\n",
              "\n",
              "    .colab-df-convert {\n",
              "      background-color: #E8F0FE;\n",
              "      border: none;\n",
              "      border-radius: 50%;\n",
              "      cursor: pointer;\n",
              "      display: none;\n",
              "      fill: #1967D2;\n",
              "      height: 32px;\n",
              "      padding: 0 0 0 0;\n",
              "      width: 32px;\n",
              "    }\n",
              "\n",
              "    .colab-df-convert:hover {\n",
              "      background-color: #E2EBFA;\n",
              "      box-shadow: 0px 1px 2px rgba(60, 64, 67, 0.3), 0px 1px 3px 1px rgba(60, 64, 67, 0.15);\n",
              "      fill: #174EA6;\n",
              "    }\n",
              "\n",
              "    [theme=dark] .colab-df-convert {\n",
              "      background-color: #3B4455;\n",
              "      fill: #D2E3FC;\n",
              "    }\n",
              "\n",
              "    [theme=dark] .colab-df-convert:hover {\n",
              "      background-color: #434B5C;\n",
              "      box-shadow: 0px 1px 3px 1px rgba(0, 0, 0, 0.15);\n",
              "      filter: drop-shadow(0px 1px 2px rgba(0, 0, 0, 0.3));\n",
              "      fill: #FFFFFF;\n",
              "    }\n",
              "  </style>\n",
              "\n",
              "      <script>\n",
              "        const buttonEl =\n",
              "          document.querySelector('#df-70462095-0fa9-40f5-8b0b-b05db314f949 button.colab-df-convert');\n",
              "        buttonEl.style.display =\n",
              "          google.colab.kernel.accessAllowed ? 'block' : 'none';\n",
              "\n",
              "        async function convertToInteractive(key) {\n",
              "          const element = document.querySelector('#df-70462095-0fa9-40f5-8b0b-b05db314f949');\n",
              "          const dataTable =\n",
              "            await google.colab.kernel.invokeFunction('convertToInteractive',\n",
              "                                                     [key], {});\n",
              "          if (!dataTable) return;\n",
              "\n",
              "          const docLinkHtml = 'Like what you see? Visit the ' +\n",
              "            '<a target=\"_blank\" href=https://colab.research.google.com/notebooks/data_table.ipynb>data table notebook</a>'\n",
              "            + ' to learn more about interactive tables.';\n",
              "          element.innerHTML = '';\n",
              "          dataTable['output_type'] = 'display_data';\n",
              "          await google.colab.output.renderOutput(dataTable, element);\n",
              "          const docLink = document.createElement('div');\n",
              "          docLink.innerHTML = docLinkHtml;\n",
              "          element.appendChild(docLink);\n",
              "        }\n",
              "      </script>\n",
              "    </div>\n",
              "  </div>\n",
              "  "
            ],
            "text/plain": [
              "           age            job  marital  ...     pdays  poutcome   y\n",
              "0    -1.154366     unemployed      2.0  ... -0.404051   unknown  no\n",
              "1    -0.856422       services      2.0  ...  3.031432   failure  no\n",
              "2    -0.000582     management      1.0  ...  2.940492   failure  no\n",
              "3    -1.154366     management      2.0  ... -0.404051   unknown  no\n",
              "4     1.725758    blue-collar      2.0  ... -0.404051   unknown  no\n",
              "...        ...            ...      ...  ...       ...       ...  ..\n",
              "4516 -0.856422       services      2.0  ... -0.404051   unknown  no\n",
              "4517  1.527129  self-employed      2.0  ... -0.404051   unknown  no\n",
              "4518  1.527129     technician      2.0  ... -0.404051   unknown  no\n",
              "4519 -1.352996    blue-collar      2.0  ...  1.738074     other  no\n",
              "4520  0.236039   entrepreneur      1.0  ...  2.122039     other  no\n",
              "\n",
              "[4087 rows x 12 columns]"
            ]
          },
          "metadata": {},
          "execution_count": 199
        }
      ]
    },
    {
      "cell_type": "markdown",
      "source": [
        "**۱۰.**"
      ],
      "metadata": {
        "id": "tL4ExnXlDthA"
      }
    },
    {
      "cell_type": "code",
      "source": [
        "y_vals = df['y'].values\n",
        "\n",
        "y_yes = y_vals == 'yes'\n",
        "y_no = y_vals == 'no'\n",
        "\n",
        "cols = ['age', 'balance', 'duration', 'campaign', 'pdays']\n",
        "for col in cols:\n",
        "  yes_col_mean = df.loc[y_yes, col].mean()\n",
        "  yes_col_std = df.loc[y_yes, col].std()\n",
        "\n",
        "  no_col_mean = df.loc[y_no, col].mean()\n",
        "  no_col_std = df.loc[y_no, col].std()\n",
        "\n",
        "  yes_norm = stats.norm(yes_col_mean, yes_col_std)\n",
        "  no_norm = stats.norm(no_col_mean, no_col_std)\n",
        "\n",
        "  plt.plot(df[col].sort_values(), yes_norm.pdf(df[col].sort_values()), label=\"Yes\")\n",
        "  plt.plot(df[col].sort_values(), no_norm.pdf(df[col].sort_values()), label=\"No\")\n",
        "  plt.title(col)\n",
        "  plt.legend(loc= \"best\")\n",
        "  plt.show()"
      ],
      "metadata": {
        "id": "VdNS08Wk24cO",
        "colab": {
          "base_uri": "https://localhost:8080/",
          "height": 1000
        },
        "outputId": "5ad70fce-9f6d-47c4-855d-d83c348668b9"
      },
      "execution_count": 200,
      "outputs": [
        {
          "output_type": "display_data",
          "data": {
            "image/png": "[encoded data removed]",
            "text/plain": [
              "<Figure size 432x288 with 1 Axes>"
            ]
          },
          "metadata": {
            "needs_background": "light"
          }
        },
        {
          "output_type": "display_data",
          "data": {
            "image/png": "[encoded data removed]",
            "text/plain": [
              "<Figure size 432x288 with 1 Axes>"
            ]
          },
          "metadata": {
            "needs_background": "light"
          }
        },
        {
          "output_type": "display_data",
          "data": {
            "image/png": "[encoded data removed]",
            "text/plain": [
              "<Figure size 432x288 with 1 Axes>"
            ]
          },
          "metadata": {
            "needs_background": "light"
          }
        },
        {
          "output_type": "display_data",
          "data": {
            "image/png": "[encoded data removed]",
            "text/plain": [
              "<Figure size 432x288 with 1 Axes>"
            ]
          },
          "metadata": {
            "needs_background": "light"
          }
        },
        {
          "output_type": "display_data",
          "data": {
            "image/png": "[encoded data removed]",
            "text/plain": [
              "<Figure size 432x288 with 1 Axes>"
            ]
          },
          "metadata": {
            "needs_background": "light"
          }
        }
      ]
    },
    {
      "cell_type": "markdown",
      "source": [
        "**۱۱.**"
      ],
      "metadata": {
        "id": "fPoS1Q3sCbCp"
      }
    },
    {
      "cell_type": "code",
      "source": [
        "y_vals = df['y'].values\n",
        "\n",
        "y_yes = y_vals == 'yes'\n",
        "y_no = y_vals == 'no'\n",
        "\n",
        "yes_dur_mean = df.loc[y_yes, 'duration'].mean()\n",
        "yes_dur_std = df.loc[y_yes, 'duration'].std()\n",
        "\n",
        "no_dur_mean = df.loc[y_no, 'duration'].mean()\n",
        "no_dur_std = df.loc[y_no, 'duration'].std()\n",
        "\n",
        "yes_dur_norm = stats.norm(yes_dur_mean, yes_dur_std)\n",
        "no_dur_norm = stats.norm(no_dur_mean, no_dur_std)\n",
        "\n",
        "yes_dur_graph = LineString(np.column_stack((df['duration'].sort_values(), yes_dur_norm.pdf(df['duration'].sort_values()))))\n",
        "no_dur_graph = LineString(np.column_stack((df['duration'].sort_values(), no_dur_norm.pdf(df['duration'].sort_values()))))\n",
        "intersection = yes_dur_graph.intersection(no_dur_graph)\n",
        "\n",
        "new_dur_mean = new_df['duration'].mean()\n",
        "new_dur_std = new_df['duration'].std()\n",
        "\n",
        "temp_dur = new_df['duration'].copy()\n",
        "\n",
        "new_df['duration'] = (new_df['duration'] - new_dur_mean) / new_dur_std\n",
        "\n",
        "higher_dur = new_df['duration'] >= intersection.x\n",
        "lower_dur = new_df['duration'] < intersection.x\n",
        "\n",
        "new_df.loc[higher_dur,'y'] = 'yes'\n",
        "new_df.loc[lower_dur, 'y'] = 'no'\n",
        "new_df['duration'] = temp_dur\n",
        "new_df.to_csv(\"estimated_output.csv\")\n",
        "new_df\n",
        "\n"
      ],
      "metadata": {
        "colab": {
          "base_uri": "https://localhost:8080/",
          "height": 424
        },
        "id": "Nnb4Fg87CZR3",
        "outputId": "fe4b09a4-0aab-4c9c-ccd7-7f9c00c793a6"
      },
      "execution_count": 201,
      "outputs": [
        {
          "output_type": "execute_result",
          "data": {
            "text/html": [
              "\n",
              "  <div id=\"df-2553f0b3-079b-48df-955f-7c5be1a6c4e2\">\n",
              "    <div class=\"colab-df-container\">\n",
              "      <div>\n",
              "<style scoped>\n",
              "    .dataframe tbody tr th:only-of-type {\n",
              "        vertical-align: middle;\n",
              "    }\n",
              "\n",
              "    .dataframe tbody tr th {\n",
              "        vertical-align: top;\n",
              "    }\n",
              "\n",
              "    .dataframe thead th {\n",
              "        text-align: right;\n",
              "    }\n",
              "</style>\n",
              "<table border=\"1\" class=\"dataframe\">\n",
              "  <thead>\n",
              "    <tr style=\"text-align: right;\">\n",
              "      <th></th>\n",
              "      <th>age</th>\n",
              "      <th>job</th>\n",
              "      <th>marital</th>\n",
              "      <th>education</th>\n",
              "      <th>balance</th>\n",
              "      <th>housing</th>\n",
              "      <th>loan</th>\n",
              "      <th>duration</th>\n",
              "      <th>campaign</th>\n",
              "      <th>pdays</th>\n",
              "      <th>poutcome</th>\n",
              "      <th>y</th>\n",
              "    </tr>\n",
              "  </thead>\n",
              "  <tbody>\n",
              "    <tr>\n",
              "      <th>34</th>\n",
              "      <td>49.00000</td>\n",
              "      <td>technician</td>\n",
              "      <td>2.0</td>\n",
              "      <td>tertiary</td>\n",
              "      <td>1235.0</td>\n",
              "      <td>no</td>\n",
              "      <td>no</td>\n",
              "      <td>354.00000</td>\n",
              "      <td>3</td>\n",
              "      <td>-1</td>\n",
              "      <td>unknown</td>\n",
              "      <td>no</td>\n",
              "    </tr>\n",
              "    <tr>\n",
              "      <th>38</th>\n",
              "      <td>33.00000</td>\n",
              "      <td>management</td>\n",
              "      <td>2.0</td>\n",
              "      <td>secondary</td>\n",
              "      <td>3935.0</td>\n",
              "      <td>yes</td>\n",
              "      <td>no</td>\n",
              "      <td>765.00000</td>\n",
              "      <td>1</td>\n",
              "      <td>342</td>\n",
              "      <td>failure</td>\n",
              "      <td>yes</td>\n",
              "    </tr>\n",
              "    <tr>\n",
              "      <th>54</th>\n",
              "      <td>41.61747</td>\n",
              "      <td>blue-collar</td>\n",
              "      <td>2.0</td>\n",
              "      <td>secondary</td>\n",
              "      <td>2231.0</td>\n",
              "      <td>yes</td>\n",
              "      <td>no</td>\n",
              "      <td>272.00000</td>\n",
              "      <td>3</td>\n",
              "      <td>-1</td>\n",
              "      <td>unknown</td>\n",
              "      <td>no</td>\n",
              "    </tr>\n",
              "    <tr>\n",
              "      <th>65</th>\n",
              "      <td>51.00000</td>\n",
              "      <td>blue-collar</td>\n",
              "      <td>0.0</td>\n",
              "      <td>secondary</td>\n",
              "      <td>23.0</td>\n",
              "      <td>yes</td>\n",
              "      <td>no</td>\n",
              "      <td>134.00000</td>\n",
              "      <td>1</td>\n",
              "      <td>170</td>\n",
              "      <td>failure</td>\n",
              "      <td>no</td>\n",
              "    </tr>\n",
              "    <tr>\n",
              "      <th>89</th>\n",
              "      <td>41.61747</td>\n",
              "      <td>blue-collar</td>\n",
              "      <td>2.0</td>\n",
              "      <td>secondary</td>\n",
              "      <td>1831.0</td>\n",
              "      <td>yes</td>\n",
              "      <td>no</td>\n",
              "      <td>203.00000</td>\n",
              "      <td>2</td>\n",
              "      <td>-1</td>\n",
              "      <td>unknown</td>\n",
              "      <td>no</td>\n",
              "    </tr>\n",
              "    <tr>\n",
              "      <th>...</th>\n",
              "      <td>...</td>\n",
              "      <td>...</td>\n",
              "      <td>...</td>\n",
              "      <td>...</td>\n",
              "      <td>...</td>\n",
              "      <td>...</td>\n",
              "      <td>...</td>\n",
              "      <td>...</td>\n",
              "      <td>...</td>\n",
              "      <td>...</td>\n",
              "      <td>...</td>\n",
              "      <td>...</td>\n",
              "    </tr>\n",
              "    <tr>\n",
              "      <th>4470</th>\n",
              "      <td>31.00000</td>\n",
              "      <td>technician</td>\n",
              "      <td>1.0</td>\n",
              "      <td>tertiary</td>\n",
              "      <td>1166.0</td>\n",
              "      <td>yes</td>\n",
              "      <td>no</td>\n",
              "      <td>207.00000</td>\n",
              "      <td>1</td>\n",
              "      <td>-1</td>\n",
              "      <td>unknown</td>\n",
              "      <td>no</td>\n",
              "    </tr>\n",
              "    <tr>\n",
              "      <th>4471</th>\n",
              "      <td>59.00000</td>\n",
              "      <td>management</td>\n",
              "      <td>2.0</td>\n",
              "      <td>unknown</td>\n",
              "      <td>3534.0</td>\n",
              "      <td>no</td>\n",
              "      <td>no</td>\n",
              "      <td>216.00000</td>\n",
              "      <td>4</td>\n",
              "      <td>-1</td>\n",
              "      <td>unknown</td>\n",
              "      <td>no</td>\n",
              "    </tr>\n",
              "    <tr>\n",
              "      <th>4473</th>\n",
              "      <td>33.00000</td>\n",
              "      <td>technician</td>\n",
              "      <td>2.0</td>\n",
              "      <td>secondary</td>\n",
              "      <td>479.0</td>\n",
              "      <td>yes</td>\n",
              "      <td>no</td>\n",
              "      <td>137.00000</td>\n",
              "      <td>1</td>\n",
              "      <td>272</td>\n",
              "      <td>failure</td>\n",
              "      <td>no</td>\n",
              "    </tr>\n",
              "    <tr>\n",
              "      <th>4477</th>\n",
              "      <td>32.00000</td>\n",
              "      <td>management</td>\n",
              "      <td>1.0</td>\n",
              "      <td>tertiary</td>\n",
              "      <td>577.0</td>\n",
              "      <td>no</td>\n",
              "      <td>no</td>\n",
              "      <td>101.00000</td>\n",
              "      <td>2</td>\n",
              "      <td>-1</td>\n",
              "      <td>unknown</td>\n",
              "      <td>no</td>\n",
              "    </tr>\n",
              "    <tr>\n",
              "      <th>4482</th>\n",
              "      <td>46.00000</td>\n",
              "      <td>admin.</td>\n",
              "      <td>2.0</td>\n",
              "      <td>secondary</td>\n",
              "      <td>466.0</td>\n",
              "      <td>yes</td>\n",
              "      <td>no</td>\n",
              "      <td>264.72402</td>\n",
              "      <td>1</td>\n",
              "      <td>-1</td>\n",
              "      <td>unknown</td>\n",
              "      <td>no</td>\n",
              "    </tr>\n",
              "  </tbody>\n",
              "</table>\n",
              "<p>434 rows × 12 columns</p>\n",
              "</div>\n",
              "      <button class=\"colab-df-convert\" onclick=\"convertToInteractive('df-2553f0b3-079b-48df-955f-7c5be1a6c4e2')\"\n",
              "              title=\"Convert this dataframe to an interactive table.\"\n",
              "              style=\"display:none;\">\n",
              "        \n",
              "  <svg xmlns=\"http://www.w3.org/2000/svg\" height=\"24px\"viewBox=\"0 0 24 24\"\n",
              "       width=\"24px\">\n",
              "    <path d=\"M0 0h24v24H0V0z\" fill=\"none\"/>\n",
              "    <path d=\"M18.56 5.44l.94 2.06.94-2.06 2.06-.94-2.06-.94-.94-2.06-.94 2.06-2.06.94zm-11 1L8.5 8.5l.94-2.06 2.06-.94-2.06-.94L8.5 2.5l-.94 2.06-2.06.94zm10 10l.94 2.06.94-2.06 2.06-.94-2.06-.94-.94-2.06-.94 2.06-2.06.94z\"/><path d=\"M17.41 7.96l-1.37-1.37c-.4-.4-.92-.59-1.43-.59-.52 0-1.04.2-1.43.59L10.3 9.45l-7.72 7.72c-.78.78-.78 2.05 0 2.83L4 21.41c.39.39.9.59 1.41.59.51 0 1.02-.2 1.41-.59l7.78-7.78 2.81-2.81c.8-.78.8-2.07 0-2.86zM5.41 20L4 18.59l7.72-7.72 1.47 1.35L5.41 20z\"/>\n",
              "  </svg>\n",
              "      </button>\n",
              "      \n",
              "  <style>\n",
              "    .colab-df-container {\n",
              "      display:flex;\n",
              "      flex-wrap:wrap;\n",
              "      gap: 12px;\n",
              "    }\n",
              "\n",
              "    .colab-df-convert {\n",
              "      background-color: #E8F0FE;\n",
              "      border: none;\n",
              "      border-radius: 50%;\n",
              "      cursor: pointer;\n",
              "      display: none;\n",
              "      fill: #1967D2;\n",
              "      height: 32px;\n",
              "      padding: 0 0 0 0;\n",
              "      width: 32px;\n",
              "    }\n",
              "\n",
              "    .colab-df-convert:hover {\n",
              "      background-color: #E2EBFA;\n",
              "      box-shadow: 0px 1px 2px rgba(60, 64, 67, 0.3), 0px 1px 3px 1px rgba(60, 64, 67, 0.15);\n",
              "      fill: #174EA6;\n",
              "    }\n",
              "\n",
              "    [theme=dark] .colab-df-convert {\n",
              "      background-color: #3B4455;\n",
              "      fill: #D2E3FC;\n",
              "    }\n",
              "\n",
              "    [theme=dark] .colab-df-convert:hover {\n",
              "      background-color: #434B5C;\n",
              "      box-shadow: 0px 1px 3px 1px rgba(0, 0, 0, 0.15);\n",
              "      filter: drop-shadow(0px 1px 2px rgba(0, 0, 0, 0.3));\n",
              "      fill: #FFFFFF;\n",
              "    }\n",
              "  </style>\n",
              "\n",
              "      <script>\n",
              "        const buttonEl =\n",
              "          document.querySelector('#df-2553f0b3-079b-48df-955f-7c5be1a6c4e2 button.colab-df-convert');\n",
              "        buttonEl.style.display =\n",
              "          google.colab.kernel.accessAllowed ? 'block' : 'none';\n",
              "\n",
              "        async function convertToInteractive(key) {\n",
              "          const element = document.querySelector('#df-2553f0b3-079b-48df-955f-7c5be1a6c4e2');\n",
              "          const dataTable =\n",
              "            await google.colab.kernel.invokeFunction('convertToInteractive',\n",
              "                                                     [key], {});\n",
              "          if (!dataTable) return;\n",
              "\n",
              "          const docLinkHtml = 'Like what you see? Visit the ' +\n",
              "            '<a target=\"_blank\" href=https://colab.research.google.com/notebooks/data_table.ipynb>data table notebook</a>'\n",
              "            + ' to learn more about interactive tables.';\n",
              "          element.innerHTML = '';\n",
              "          dataTable['output_type'] = 'display_data';\n",
              "          await google.colab.output.renderOutput(dataTable, element);\n",
              "          const docLink = document.createElement('div');\n",
              "          docLink.innerHTML = docLinkHtml;\n",
              "          element.appendChild(docLink);\n",
              "        }\n",
              "      </script>\n",
              "    </div>\n",
              "  </div>\n",
              "  "
            ],
            "text/plain": [
              "           age          job  marital  education  ...  campaign pdays poutcome    y\n",
              "34    49.00000   technician      2.0   tertiary  ...         3    -1  unknown   no\n",
              "38    33.00000   management      2.0  secondary  ...         1   342  failure  yes\n",
              "54    41.61747  blue-collar      2.0  secondary  ...         3    -1  unknown   no\n",
              "65    51.00000  blue-collar      0.0  secondary  ...         1   170  failure   no\n",
              "89    41.61747  blue-collar      2.0  secondary  ...         2    -1  unknown   no\n",
              "...        ...          ...      ...        ...  ...       ...   ...      ...  ...\n",
              "4470  31.00000   technician      1.0   tertiary  ...         1    -1  unknown   no\n",
              "4471  59.00000   management      2.0    unknown  ...         4    -1  unknown   no\n",
              "4473  33.00000   technician      2.0  secondary  ...         1   272  failure   no\n",
              "4477  32.00000   management      1.0   tertiary  ...         2    -1  unknown   no\n",
              "4482  46.00000       admin.      2.0  secondary  ...         1    -1  unknown   no\n",
              "\n",
              "[434 rows x 12 columns]"
            ]
          },
          "metadata": {},
          "execution_count": 201
        }
      ]
    }
  ]
}